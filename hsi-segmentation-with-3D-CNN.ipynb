{
 "cells": [
  {
   "cell_type": "code",
   "execution_count": 1,
   "metadata": {},
   "outputs": [
    {
     "name": "stderr",
     "output_type": "stream",
     "text": [
      "Using TensorFlow backend.\n"
     ]
    }
   ],
   "source": [
    "import keras\n",
    "from keras.layers import Conv2D, Conv3D, Flatten, Dense, Reshape, BatchNormalization\n",
    "from keras.layers import Dropout, Input\n",
    "from keras.models import Model\n",
    "from keras.optimizers import Adam\n",
    "from keras.callbacks import ModelCheckpoint\n",
    "from keras.utils import np_utils\n",
    "\n",
    "from sklearn.decomposition import PCA\n",
    "from sklearn.model_selection import train_test_split\n",
    "from sklearn.metrics import confusion_matrix, accuracy_score, classification_report, cohen_kappa_score\n",
    "\n",
    "from operator import truediv\n",
    "\n",
    "#from plotly.offline import init_notebook_mode\n",
    "\n",
    "import numpy as np\n",
    "import matplotlib.pyplot as plt\n",
    "import scipy.io as sio\n",
    "import os\n",
    "import spectral\n",
    "\n",
    "#init_notebook_mode(connected=True)\n",
    "%matplotlib inline"
   ]
  },
  {
   "cell_type": "markdown",
   "metadata": {},
   "source": [
    "# Data Loading"
   ]
  },
  {
   "cell_type": "code",
   "execution_count": 2,
   "metadata": {},
   "outputs": [],
   "source": [
    "## GLOBAL VARIABLES\n",
    "dataset = 'PU'\n",
    "test_ratio = 0.7\n",
    "windowSize = 25"
   ]
  },
  {
   "cell_type": "code",
   "execution_count": 3,
   "metadata": {},
   "outputs": [],
   "source": [
    "def loadData(name):\n",
    "    data_path = os.path.join(os.getcwd(),'data')\n",
    "    if name == 'IP':\n",
    "        data = sio.loadmat(os.path.join(data_path, 'Indian_pines_corrected.mat'))['indian_pines_corrected']\n",
    "        labels = sio.loadmat(os.path.join(data_path, 'Indian_pines_gt.mat'))['indian_pines_gt']\n",
    "    elif name == 'SA':\n",
    "        data = sio.loadmat(os.path.join(data_path, 'Salinas_corrected.mat'))['salinas_corrected']\n",
    "        labels = sio.loadmat(os.path.join(data_path, 'Salinas_gt.mat'))['salinas_gt']\n",
    "    elif name == 'PU':\n",
    "        data = sio.loadmat(os.path.join(data_path, 'PaviaU.mat'))['paviaU']\n",
    "        labels = sio.loadmat(os.path.join(data_path, 'PaviaU_gt.mat'))['paviaU_gt']\n",
    "    \n",
    "    return data, labels"
   ]
  },
  {
   "cell_type": "code",
   "execution_count": 4,
   "metadata": {},
   "outputs": [],
   "source": [
    "def splitTrainTestSet(X, y, testRatio, randomState=345):\n",
    "    X_train, X_test, y_train, y_test = train_test_split(X, y, test_size=testRatio, random_state=randomState,\n",
    "                                                        stratify=y)\n",
    "    return X_train, X_test, y_train, y_test"
   ]
  },
  {
   "cell_type": "code",
   "execution_count": 5,
   "metadata": {},
   "outputs": [],
   "source": [
    "import math\n",
    "import random"
   ]
  },
  {
   "cell_type": "code",
   "execution_count": 6,
   "metadata": {},
   "outputs": [],
   "source": [
    "# TODO ta metoda modyfikuje dane, a może nie powinna?\n",
    "# TODO w zbiorze wynikowym moga pojawic sie duplikaty\n",
    "# TODO przez to, że część danych jest odrzucana, faktyczny testRatio będzie zwykle sporo mniejszy\n",
    "def spitTrainTestSet2(X, y, testRatio, testSquareSize):\n",
    "    number_of_pixels = X.shape[0] * X.shape[1]\n",
    "    pixels_in_test = testRatio * number_of_pixels\n",
    "    test_squares_count = pixels_in_test / (testSquareSize * testSquareSize)\n",
    "    test_squares_count_floor = math.floor(test_squares_count)\n",
    "\n",
    "    failures = 0\n",
    "    test_squares = np.zeros((test_squares_count_floor, testSquareSize, testSquareSize, X.shape[2]))\n",
    "    test_squares_labels = np.zeros((test_squares_count_floor, testSquareSize, testSquareSize))\n",
    "    i = 0\n",
    "    while i < test_squares_count_floor:\n",
    "    #for i in range(test_squares_count_floor):\n",
    "        y_coord = random.randint(0,X.shape[0] - testSquareSize - 1) #pion\n",
    "        x_coord = random.randint(0,X.shape[1] - testSquareSize - 1) #poziom\n",
    "        #ten if ma zahardkodowane 20, czyli teraz nigdy do niego nie wejdzie. Zachowanie może i ok, ale trzeba usunac duplikaty z wynikowego zbiotu testowego\n",
    "        if y[y_coord, x_coord] == 20 or y[y_coord + testSquareSize, x_coord] == 20 or y[y_coord, x_coord + testSquareSize] == 20 or y[y_coord + testSquareSize, x_coord + testSquareSize] == 20:\n",
    "            failures = failures + 1\n",
    "        else:\n",
    "            test_squares[i] = X[y_coord : y_coord + testSquareSize, x_coord : x_coord + testSquareSize, :]\n",
    "            test_squares_labels[i] = y[y_coord : y_coord + testSquareSize, x_coord : x_coord + testSquareSize] \n",
    "            y[y_coord : y_coord + testSquareSize, x_coord : x_coord + testSquareSize] = 0 #20\n",
    "            i += 1\n",
    "\n",
    "    print(failures)\n",
    "    return test_squares_count_floor, test_squares, test_squares_labels, y"
   ]
  },
  {
   "cell_type": "code",
   "execution_count": null,
   "metadata": {},
   "outputs": [],
   "source": [
    "\n",
    "    \n",
    "    \n",
    "    "
   ]
  },
  {
   "cell_type": "code",
   "execution_count": 7,
   "metadata": {},
   "outputs": [],
   "source": [
    "def spitTrainTestSet3(X, y, testRatio, testSquareSize, markTestSquaresAsBg = True):\n",
    "    y_copy = np.copy(y)\n",
    "    number_of_pixels = X.shape[0] * X.shape[1]\n",
    "    pixels_in_test = testRatio * number_of_pixels\n",
    "    test_squares_count = pixels_in_test / (testSquareSize * testSquareSize)\n",
    "    test_squares_count_floor = math.floor(test_squares_count)\n",
    "\n",
    "    failures = 0\n",
    "    test_squares = np.zeros((test_squares_count_floor, testSquareSize, testSquareSize, X.shape[2]))\n",
    "    test_squares_labels = np.zeros((test_squares_count_floor, testSquareSize, testSquareSize))\n",
    "    i = 0\n",
    "    while i < test_squares_count_floor:\n",
    "        y_coord = random.randint(0,X.shape[0] - testSquareSize - 1) #pion\n",
    "        x_coord = random.randint(0,X.shape[1] - testSquareSize - 1) #poziom\n",
    "        if y[y_coord, x_coord] == 100 or y[y_coord + testSquareSize, x_coord] == 100 or y[y_coord, x_coord + testSquareSize] == 100 or y[y_coord + testSquareSize, x_coord + testSquareSize] == 100:\n",
    "            failures = failures + 1\n",
    "            if failures == 1000 or failures == 3000:\n",
    "                print(failures)\n",
    "            if failures == 5000:\n",
    "                y = y_copy\n",
    "                raise NameError('Hello there')\n",
    "        else:\n",
    "            test_squares[i] = X[y_coord : y_coord + testSquareSize, x_coord : x_coord + testSquareSize, :]\n",
    "            test_squares_labels[i] = y[y_coord : y_coord + testSquareSize, x_coord : x_coord + testSquareSize] \n",
    "            y[y_coord : y_coord + testSquareSize, x_coord : x_coord + testSquareSize] = 100\n",
    "            i += 1\n",
    "\n",
    "    print(failures)\n",
    "    for i in range(y.shape[0]):\n",
    "        for j in range(y.shape[1]):\n",
    "            if y[i,j] == 100 and markTestSquaresAsBg:\n",
    "                y[i,j] = 0\n",
    "    return test_squares_count_floor, test_squares, test_squares_labels, y"
   ]
  },
  {
   "cell_type": "code",
   "execution_count": 8,
   "metadata": {},
   "outputs": [],
   "source": [
    "def countClassesInLabelSquares(classesCount, labelSquares, margin):\n",
    "    classes_in_squares = np.zeros((classesCount))\n",
    "    for i in range(labelSquares.shape[0]):\n",
    "        for j in range(margin, labelSquares.shape[1] - margin):\n",
    "            for k in range(margin, labelSquares.shape[2] - margin):\n",
    "                c = int(labelSquares[i, j, k])\n",
    "                classes_in_squares[c] += 1\n",
    "    return classes_in_squares "
   ]
  },
  {
   "cell_type": "code",
   "execution_count": 9,
   "metadata": {},
   "outputs": [],
   "source": [
    "#can be merged with above\n",
    "def countClassesInGt(classesCount, gt):\n",
    "    classes_in_gt = np.zeros((classesCount))\n",
    "    for i in range(gt.shape[0]):\n",
    "        for j in range(gt.shape[1]):\n",
    "            c = int(gt[i, j])\n",
    "            classes_in_gt[c] += 1\n",
    "    return classes_in_gt "
   ]
  },
  {
   "cell_type": "code",
   "execution_count": 10,
   "metadata": {},
   "outputs": [],
   "source": [
    "def convertSquaresToTestSets(testSquares, testLabelSquares, resultWindowSize, classesInSquares): #resultWindowSize should be odd\n",
    "    margin = int((resultWindowSize - 1) / 2)\n",
    "    testCount = int(classesInSquares)\n",
    "    testSet = np.zeros((testCount, resultWindowSize, resultWindowSize, testSquares.shape[3]))\n",
    "    testSetLabels = np.zeros((testCount))\n",
    "    testSet_GT = np.zeros((testCount, resultWindowSize, resultWindowSize))\n",
    "    for i in range(testSquares.shape[0]):\n",
    "        for j in range(margin, testSquares.shape[1] - margin):\n",
    "            for k in range(margin, testSquares.shape[2] - margin):\n",
    "                if testLabelSquares[i, j, k] != 0:\n",
    "                    testCount -= 1\n",
    "                    testSet[testCount] = testSquares[i, j - margin : j + margin + 1, k - margin : k + margin + 1,:]\n",
    "                    testSetLabels[testCount] = testLabelSquares[i, j, k]\n",
    "                    testSet_GT[testCount] = testLabelSquares[i, j - margin : j + margin + 1, k - margin : k + margin + 1]\n",
    "    \n",
    "    return testSet, testSetLabels, testSet_GT"
   ]
  },
  {
   "cell_type": "code",
   "execution_count": 11,
   "metadata": {},
   "outputs": [],
   "source": [
    "def convertSquaresToTestSetsAndTreatBackgroundAsClass(testSquares, testLabelSquares, resultWindowSize): #resultWindowSize should be odd\n",
    "    margin = int((resultWindowSize - 1) / 2)\n",
    "    testCount = testLabelSquares.shape[0] * testLabelSquares.shape[1] * testLabelSquares.shape[2]\n",
    "    testSet = np.zeros((testCount, resultWindowSize, resultWindowSize, testSquares.shape[3]))\n",
    "    testSetLabels = np.zeros((testCount))\n",
    "    testSet_GT = np.zeros((testCount, resultWindowSize, resultWindowSize))\n",
    "    for i in range(testSquares.shape[0]):\n",
    "        for j in range(margin, testSquares.shape[1] - margin):\n",
    "            for k in range(margin, testSquares.shape[2] - margin):\n",
    "                testCount -= 1\n",
    "                testSet[testCount] = testSquares[i, j - margin : j + margin + 1, k - margin : k + margin + 1,:]\n",
    "                testSetLabels[testCount] = testLabelSquares[i, j, k]\n",
    "                testSet_GT[testCount] = testLabelSquares[i, j - margin : j + margin + 1, k - margin : k + margin + 1]\n",
    "    \n",
    "    return testSet, testSetLabels, testSet_GT"
   ]
  },
  {
   "cell_type": "code",
   "execution_count": 12,
   "metadata": {},
   "outputs": [],
   "source": [
    "def countPixelsOtherThanValue(gt, value):\n",
    "    count = 0\n",
    "    for i in range(gt.shape[0]):\n",
    "        for j in range(gt.shape[1]):\n",
    "            if gt[i, j] != value:\n",
    "                count += 1\n",
    "    return count"
   ]
  },
  {
   "cell_type": "code",
   "execution_count": 13,
   "metadata": {},
   "outputs": [],
   "source": [
    "def countBackgroundPixels(labels):\n",
    "    count = 0\n",
    "    for i in range(labels.shape[0]):\n",
    "        if labels[i] == 0:\n",
    "            count += 1\n",
    "    return count"
   ]
  },
  {
   "cell_type": "code",
   "execution_count": 14,
   "metadata": {},
   "outputs": [],
   "source": [
    "def applyPCA(X, numComponents=75):\n",
    "    newX = np.reshape(X, (-1, X.shape[2]))\n",
    "    pca = PCA(n_components=numComponents, whiten=True)\n",
    "    newX = pca.fit_transform(newX)\n",
    "    newX = np.reshape(newX, (X.shape[0],X.shape[1], numComponents))\n",
    "    return newX, pca"
   ]
  },
  {
   "cell_type": "code",
   "execution_count": 15,
   "metadata": {},
   "outputs": [],
   "source": [
    "def padWithZeros(X, margin=2):\n",
    "    newX = np.zeros((X.shape[0] + 2 * margin, X.shape[1] + 2* margin, X.shape[2]))\n",
    "    x_offset = margin\n",
    "    y_offset = margin\n",
    "    newX[x_offset:X.shape[0] + x_offset, y_offset:X.shape[1] + y_offset, :] = X\n",
    "    return newX"
   ]
  },
  {
   "cell_type": "code",
   "execution_count": 16,
   "metadata": {},
   "outputs": [],
   "source": [
    "def createImageCubes(X, y, windowSize=5, treatBgAsClass = False):\n",
    "    notIncludedPixelValue = 100 if treatBgAsClass else 0 #look to func when squares are selected split3\n",
    "    margin = int((windowSize - 1) / 2)\n",
    "    zeroPaddedX = padWithZeros(X, margin=margin)\n",
    "    # split patches\n",
    "    #patchesData = np.memmap('test.mymemmap', dtype='float32', mode='w+', shape=(X.shape[0] * X.shape[1], windowSize, windowSize, X.shape[2]))\n",
    "    patchesData = np.zeros((countPixelsOtherThanValue(y, notIncludedPixelValue), windowSize, windowSize, X.shape[2]))\n",
    "    patchesLabels = np.zeros((countPixelsOtherThanValue(y, notIncludedPixelValue)))\n",
    "    patchIndex = 0\n",
    "    for r in range(margin, zeroPaddedX.shape[0] - margin):\n",
    "        for c in range(margin, zeroPaddedX.shape[1] - margin):\n",
    "            if y[r-margin, c-margin] != notIncludedPixelValue:\n",
    "                patch = zeroPaddedX[r - margin:r + margin + 1, c - margin:c + margin + 1]   \n",
    "                patchesData[patchIndex, :, :, :] = patch\n",
    "                patchesLabels[patchIndex] = y[r-margin, c-margin]\n",
    "                patchIndex = patchIndex + 1\n",
    "\n",
    "    return patchesData, patchesLabels"
   ]
  },
  {
   "cell_type": "code",
   "execution_count": 17,
   "metadata": {},
   "outputs": [],
   "source": [
    "\n",
    "                        #################### <--- REAL FUN STARTS HERE ---> ####################\n"
   ]
  },
  {
   "cell_type": "code",
   "execution_count": 21,
   "metadata": {},
   "outputs": [
    {
     "name": "stdout",
     "output_type": "stream",
     "text": [
      "(610, 340, 103) (610, 340)\n"
     ]
    },
    {
     "data": {
      "image/png": "[encoded data removed]",
      "text/plain": [
       "<Figure size 504x504 with 1 Axes>"
      ]
     },
     "metadata": {
      "needs_background": "light"
     },
     "output_type": "display_data"
    }
   ],
   "source": [
    "X, y = loadData(dataset)\n",
    "\n",
    "print(X.shape, y.shape)\n",
    "\n",
    "ground_truth = spectral.imshow(classes = y,figsize =(7,7))"
   ]
  },
  {
   "cell_type": "code",
   "execution_count": 22,
   "metadata": {},
   "outputs": [
    {
     "data": {
      "text/plain": [
       "(610, 340, 15)"
      ]
     },
     "execution_count": 22,
     "metadata": {},
     "output_type": "execute_result"
    }
   ],
   "source": [
    "K = 15\n",
    "X,pca = applyPCA(X,numComponents=K)\n",
    "\n",
    "X.shape"
   ]
  },
  {
   "cell_type": "code",
   "execution_count": 23,
   "metadata": {},
   "outputs": [
    {
     "name": "stdout",
     "output_type": "stream",
     "text": [
      "1000\n",
      "3000\n",
      "3402\n"
     ]
    },
    {
     "data": {
      "text/plain": [
       "(64, 40, 40, 15)"
      ]
     },
     "execution_count": 23,
     "metadata": {},
     "output_type": "execute_result"
    }
   ],
   "source": [
    "testSquaresCount, testSquares, testSquares_GT, y = spitTrainTestSet3(X, y, 0.50, windowSize + 15)\n",
    "#testSquaresCount, testSquares, testSquares_GT, y = spitTrainTestSet2(X, y, 1, windowSize + 10)\n",
    "testSquares.shape"
   ]
  },
  {
   "cell_type": "code",
   "execution_count": 24,
   "metadata": {},
   "outputs": [
    {
     "data": {
      "image/png": "[encoded data removed]",
      "text/plain": [
       "<Figure size 504x504 with 1 Axes>"
      ]
     },
     "metadata": {
      "needs_background": "light"
     },
     "output_type": "display_data"
    }
   ],
   "source": [
    "ground_truth = spectral.imshow(classes = y, figsize =(7,7))"
   ]
  },
  {
   "cell_type": "code",
   "execution_count": 25,
   "metadata": {},
   "outputs": [
    {
     "data": {
      "text/plain": [
       "(array([13841.,   426.,  1187.,    58.,   198.,    56.,   256.,    74.,\n",
       "          220.,    68.]),\n",
       " array([182574.,   3801.,  11162.,   1213.,   1478.,    631.,   3028.,\n",
       "           947.,   2075.,    491.]))"
      ]
     },
     "execution_count": 25,
     "metadata": {},
     "output_type": "execute_result"
    }
   ],
   "source": [
    "#TU JEST ZAHARDCODOWANA ILOSC KLAS. można zrobić count(unique(labels)) albo max(labels)\n",
    "classes_in_test_squares = countClassesInLabelSquares(1 + 9, testSquares_GT, 12) # 16 classes + 1 for bacground\n",
    "classes_in_train_set = countClassesInGt(1 + 9, y)\n",
    "#brakuje takich samych danych dla treningowego\n",
    "classes_in_test_squares, classes_in_train_set"
   ]
  },
  {
   "cell_type": "code",
   "execution_count": 26,
   "metadata": {},
   "outputs": [],
   "source": [
    "classes_in_squares_count = np.sum(classes_in_test_squares[1 : classes_in_test_squares.shape[0]])\n",
    "testSet, testSetLabels, testSet_GT = convertSquaresToTestSets(testSquares, testSquares_GT, windowSize, classes_in_squares_count)"
   ]
  },
  {
   "cell_type": "code",
   "execution_count": 27,
   "metadata": {},
   "outputs": [
    {
     "data": {
      "text/plain": [
       "((24826, 25, 25, 15), (24826,))"
      ]
     },
     "execution_count": 27,
     "metadata": {},
     "output_type": "execute_result"
    }
   ],
   "source": [
    "trainSet, trainSetLabels = createImageCubes(X, y, windowSize=windowSize)\n",
    "\n",
    "trainSet.shape, trainSetLabels.shape"
   ]
  },
  {
   "cell_type": "code",
   "execution_count": 28,
   "metadata": {},
   "outputs": [
    {
     "data": {
      "text/plain": [
       "((24826, 25, 25, 15), (2543, 25, 25, 15), (24826,), (2543,))"
      ]
     },
     "execution_count": 28,
     "metadata": {},
     "output_type": "execute_result"
    }
   ],
   "source": [
    "trainSet.shape, testSet.shape, trainSetLabels.shape, testSetLabels.shape"
   ]
  },
  {
   "cell_type": "code",
   "execution_count": 29,
   "metadata": {},
   "outputs": [],
   "source": [
    "#just to not rename everything in notebook\n",
    "Xtrain = trainSet\n",
    "Xtest = testSet\n",
    "ytrain = trainSetLabels - 1\n",
    "ytest = testSetLabels - 1"
   ]
  },
  {
   "cell_type": "code",
   "execution_count": 30,
   "metadata": {},
   "outputs": [
    {
     "data": {
      "text/plain": [
       "((24826, 25, 25, 15), (2543, 25, 25, 15), (24826,), (2543,))"
      ]
     },
     "execution_count": 30,
     "metadata": {},
     "output_type": "execute_result"
    }
   ],
   "source": [
    "Xtrain.shape, Xtest.shape, ytrain.shape, ytest.shape"
   ]
  },
  {
   "cell_type": "markdown",
   "metadata": {},
   "source": [
    "# Model and Training"
   ]
  },
  {
   "cell_type": "code",
   "execution_count": 31,
   "metadata": {},
   "outputs": [
    {
     "data": {
      "text/plain": [
       "(24826, 25, 25, 15, 1)"
      ]
     },
     "execution_count": 31,
     "metadata": {},
     "output_type": "execute_result"
    }
   ],
   "source": [
    "Xtrain = Xtrain.reshape(-1, windowSize, windowSize, K, 1)\n",
    "Xtrain.shape"
   ]
  },
  {
   "cell_type": "code",
   "execution_count": 32,
   "metadata": {},
   "outputs": [
    {
     "data": {
      "text/plain": [
       "(24826, 9)"
      ]
     },
     "execution_count": 32,
     "metadata": {},
     "output_type": "execute_result"
    }
   ],
   "source": [
    "ytrain = np_utils.to_categorical(ytrain)\n",
    "ytrain.shape"
   ]
  },
  {
   "cell_type": "code",
   "execution_count": 33,
   "metadata": {},
   "outputs": [],
   "source": [
    "S = windowSize\n",
    "L = K\n",
    "output_units = 9 if (dataset == 'PU' or dataset == 'PC') else 16"
   ]
  },
  {
   "cell_type": "code",
   "execution_count": 34,
   "metadata": {},
   "outputs": [
    {
     "name": "stdout",
     "output_type": "stream",
     "text": [
      "WARNING:tensorflow:From C:\\Users\\Marcin\\Anaconda3\\envs\\PythonGPU\\lib\\site-packages\\tensorflow\\python\\framework\\op_def_library.py:263: colocate_with (from tensorflow.python.framework.ops) is deprecated and will be removed in a future version.\n",
      "Instructions for updating:\n",
      "Colocations handled automatically by placer.\n",
      "WARNING:tensorflow:From C:\\Users\\Marcin\\Anaconda3\\envs\\PythonGPU\\lib\\site-packages\\keras\\backend\\tensorflow_backend.py:3445: calling dropout (from tensorflow.python.ops.nn_ops) with keep_prob is deprecated and will be removed in a future version.\n",
      "Instructions for updating:\n",
      "Please use `rate` instead of `keep_prob`. Rate should be set to `rate = 1 - keep_prob`.\n"
     ]
    }
   ],
   "source": [
    "## input layer\n",
    "input_layer = Input((S, S, L, 1))\n",
    "\n",
    "## convolutional layers\n",
    "conv_layer1 = Conv3D(filters=8, kernel_size=(3, 3, 7), activation='relu')(input_layer)\n",
    "conv_layer2 = Conv3D(filters=16, kernel_size=(3, 3, 5), activation='relu')(conv_layer1)\n",
    "conv_layer3 = Conv3D(filters=32, kernel_size=(3, 3, 3), activation='relu')(conv_layer2)\n",
    "conv_layer4 = Conv3D(filters=64, kernel_size=(3, 3, 3), activation='relu')(conv_layer3)\n",
    "\n",
    "flatten_layer = Flatten()(conv_layer4)\n",
    "\n",
    "## fully connected layers\n",
    "dense_layer1 = Dense(units=256, activation='relu')(flatten_layer)\n",
    "dense_layer1 = Dropout(0.4)(dense_layer1)\n",
    "dense_layer2 = Dense(units=128, activation='relu')(dense_layer1)\n",
    "dense_layer2 = Dropout(0.4)(dense_layer2)\n",
    "output_layer = Dense(units=output_units, activation='softmax')(dense_layer2)"
   ]
  },
  {
   "cell_type": "code",
   "execution_count": 35,
   "metadata": {},
   "outputs": [],
   "source": [
    "# define the model with input layer and output layer\n",
    "model = Model(inputs=input_layer, outputs=output_layer)"
   ]
  },
  {
   "cell_type": "code",
   "execution_count": 36,
   "metadata": {},
   "outputs": [
    {
     "name": "stdout",
     "output_type": "stream",
     "text": [
      "_________________________________________________________________\n",
      "Layer (type)                 Output Shape              Param #   \n",
      "=================================================================\n",
      "input_1 (InputLayer)         (None, 25, 25, 15, 1)     0         \n",
      "_________________________________________________________________\n",
      "conv3d_1 (Conv3D)            (None, 23, 23, 9, 8)      512       \n",
      "_________________________________________________________________\n",
      "conv3d_2 (Conv3D)            (None, 21, 21, 5, 16)     5776      \n",
      "_________________________________________________________________\n",
      "conv3d_3 (Conv3D)            (None, 19, 19, 3, 32)     13856     \n",
      "_________________________________________________________________\n",
      "conv3d_4 (Conv3D)            (None, 17, 17, 1, 64)     55360     \n",
      "_________________________________________________________________\n",
      "flatten_1 (Flatten)          (None, 18496)             0         \n",
      "_________________________________________________________________\n",
      "dense_1 (Dense)              (None, 256)               4735232   \n",
      "_________________________________________________________________\n",
      "dropout_1 (Dropout)          (None, 256)               0         \n",
      "_________________________________________________________________\n",
      "dense_2 (Dense)              (None, 128)               32896     \n",
      "_________________________________________________________________\n",
      "dropout_2 (Dropout)          (None, 128)               0         \n",
      "_________________________________________________________________\n",
      "dense_3 (Dense)              (None, 9)                 1161      \n",
      "=================================================================\n",
      "Total params: 4,844,793\n",
      "Trainable params: 4,844,793\n",
      "Non-trainable params: 0\n",
      "_________________________________________________________________\n"
     ]
    }
   ],
   "source": [
    "model.summary()"
   ]
  },
  {
   "cell_type": "code",
   "execution_count": 37,
   "metadata": {},
   "outputs": [],
   "source": [
    "# compiling the model\n",
    "adam = Adam(lr=0.001, decay=1e-06)\n",
    "model.compile(loss='categorical_crossentropy', optimizer=adam, metrics=['accuracy'])"
   ]
  },
  {
   "cell_type": "code",
   "execution_count": 38,
   "metadata": {},
   "outputs": [],
   "source": [
    "# checkpoint\n",
    "filepath = \"best-model-3D.hdf5\"\n",
    "checkpoint = ModelCheckpoint(filepath, monitor='acc', verbose=1, save_best_only=True, mode='max')\n",
    "callbacks_list = [checkpoint]"
   ]
  },
  {
   "cell_type": "code",
   "execution_count": 39,
   "metadata": {},
   "outputs": [
    {
     "name": "stdout",
     "output_type": "stream",
     "text": [
      "WARNING:tensorflow:From C:\\Users\\Marcin\\Anaconda3\\envs\\PythonGPU\\lib\\site-packages\\tensorflow\\python\\ops\\math_ops.py:3066: to_int32 (from tensorflow.python.ops.math_ops) is deprecated and will be removed in a future version.\n",
      "Instructions for updating:\n",
      "Use tf.cast instead.\n",
      "Epoch 1/5\n",
      "24826/24826 [==============================] - 44s 2ms/step - loss: 0.5978 - acc: 0.7904\n",
      "\n",
      "Epoch 00001: acc improved from -inf to 0.79042, saving model to best-model-3D.hdf5\n",
      "Epoch 2/5\n",
      "24826/24826 [==============================] - 39s 2ms/step - loss: 0.0330 - acc: 0.9906\n",
      "\n",
      "Epoch 00002: acc improved from 0.79042 to 0.99061, saving model to best-model-3D.hdf5\n",
      "Epoch 3/5\n",
      "24826/24826 [==============================] - 39s 2ms/step - loss: 0.0146 - acc: 0.9957\n",
      "\n",
      "Epoch 00003: acc improved from 0.99061 to 0.99573, saving model to best-model-3D.hdf5\n",
      "Epoch 4/5\n",
      "24826/24826 [==============================] - 39s 2ms/step - loss: 0.0075 - acc: 0.9978\n",
      "\n",
      "Epoch 00004: acc improved from 0.99573 to 0.99782, saving model to best-model-3D.hdf5\n",
      "Epoch 5/5\n",
      "24826/24826 [==============================] - 39s 2ms/step - loss: 0.0033 - acc: 0.9990\n",
      "\n",
      "Epoch 00005: acc improved from 0.99782 to 0.99899, saving model to best-model-3D.hdf5\n"
     ]
    }
   ],
   "source": [
    "history = model.fit(x=Xtrain, y=ytrain, batch_size=256, epochs=5, callbacks=callbacks_list)"
   ]
  },
  {
   "cell_type": "markdown",
   "metadata": {},
   "source": [
    "# Validation"
   ]
  },
  {
   "cell_type": "code",
   "execution_count": 40,
   "metadata": {},
   "outputs": [],
   "source": [
    "# load best weights\n",
    "model.load_weights(\"best-model-3D.hdf5\")\n",
    "model.compile(loss='categorical_crossentropy', optimizer=adam, metrics=['accuracy'])"
   ]
  },
  {
   "cell_type": "code",
   "execution_count": 41,
   "metadata": {},
   "outputs": [
    {
     "data": {
      "text/plain": [
       "(2543, 25, 25, 15, 1)"
      ]
     },
     "execution_count": 41,
     "metadata": {},
     "output_type": "execute_result"
    }
   ],
   "source": [
    "Xtest = Xtest.reshape(-1, windowSize, windowSize, K, 1)\n",
    "Xtest.shape"
   ]
  },
  {
   "cell_type": "code",
   "execution_count": 42,
   "metadata": {},
   "outputs": [
    {
     "data": {
      "text/plain": [
       "(2543, 9)"
      ]
     },
     "execution_count": 42,
     "metadata": {},
     "output_type": "execute_result"
    }
   ],
   "source": [
    "ytest = np_utils.to_categorical(ytest)\n",
    "ytest.shape"
   ]
  },
  {
   "cell_type": "code",
   "execution_count": 43,
   "metadata": {},
   "outputs": [
    {
     "name": "stdout",
     "output_type": "stream",
     "text": [
      "              precision    recall  f1-score   support\n",
      "\n",
      "           0       0.98      0.99      0.98       426\n",
      "           1       1.00      1.00      1.00      1187\n",
      "           2       0.92      0.81      0.86        58\n",
      "           3       0.97      0.93      0.95       198\n",
      "           4       1.00      1.00      1.00        56\n",
      "           5       1.00      1.00      1.00       256\n",
      "           6       0.97      1.00      0.99        74\n",
      "           7       0.89      1.00      0.94       220\n",
      "           8       1.00      0.72      0.84        68\n",
      "\n",
      "    accuracy                           0.98      2543\n",
      "   macro avg       0.97      0.94      0.95      2543\n",
      "weighted avg       0.98      0.98      0.98      2543\n",
      "\n"
     ]
    }
   ],
   "source": [
    "Y_pred_test = model.predict(Xtest)\n",
    "y_pred_test = np.argmax(Y_pred_test, axis=1)\n",
    "\n",
    "classification = classification_report(np.argmax(ytest, axis=1), y_pred_test)\n",
    "print(classification)"
   ]
  },
  {
   "cell_type": "code",
   "execution_count": 44,
   "metadata": {},
   "outputs": [],
   "source": [
    "def Patch(data,height_index,width_index):\n",
    "    height_slice = slice(height_index, height_index+PATCH_SIZE)\n",
    "    width_slice = slice(width_index, width_index+PATCH_SIZE)\n",
    "    patch = data[height_slice, width_slice, :]\n",
    "    \n",
    "    return patch"
   ]
  },
  {
   "cell_type": "code",
   "execution_count": 45,
   "metadata": {},
   "outputs": [],
   "source": [
    "# load the original image\n",
    "X, y = loadData(dataset)"
   ]
  },
  {
   "cell_type": "code",
   "execution_count": 46,
   "metadata": {},
   "outputs": [],
   "source": [
    "height = y.shape[0]\n",
    "width = y.shape[1]\n",
    "PATCH_SIZE = windowSize\n",
    "numComponents = K"
   ]
  },
  {
   "cell_type": "code",
   "execution_count": 47,
   "metadata": {},
   "outputs": [],
   "source": [
    "X,pca = applyPCA(X, numComponents=numComponents)"
   ]
  },
  {
   "cell_type": "code",
   "execution_count": 48,
   "metadata": {},
   "outputs": [],
   "source": [
    "X = padWithZeros(X, PATCH_SIZE//2)"
   ]
  },
  {
   "cell_type": "code",
   "execution_count": 46,
   "metadata": {},
   "outputs": [],
   "source": [
    "# calculate the predicted image\n",
    "outputs = np.zeros((height,width))\n",
    "for i in range(height):\n",
    "    for j in range(width):\n",
    "        target = int(y[i,j])\n",
    "        if target == 0 :\n",
    "            continue\n",
    "        else :\n",
    "            image_patch=Patch(X,i,j)\n",
    "            X_test_image = image_patch.reshape(1,image_patch.shape[0],image_patch.shape[1], image_patch.shape[2], 1).astype('float32')                                   \n",
    "            prediction = (model.predict(X_test_image))\n",
    "            prediction = np.argmax(prediction, axis=1)\n",
    "            outputs[i][j] = prediction+1"
   ]
  },
  {
   "cell_type": "code",
   "execution_count": 47,
   "metadata": {},
   "outputs": [
    {
     "data": {
      "image/png": "[encoded data removed]",
      "text/plain": [
       "<Figure size 504x504 with 1 Axes>"
      ]
     },
     "metadata": {
      "needs_background": "light"
     },
     "output_type": "display_data"
    },
    {
     "data": {
      "image/png": "[encoded data removed]",
      "text/plain": [
       "<Figure size 504x504 with 1 Axes>"
      ]
     },
     "metadata": {
      "needs_background": "light"
     },
     "output_type": "display_data"
    }
   ],
   "source": [
    "ground_truth = spectral.imshow(classes = y,figsize =(7,7))\n",
    "predict_image = spectral.imshow(classes = outputs.astype(int),figsize =(7,7))"
   ]
  },
  {
   "cell_type": "code",
   "execution_count": 36,
   "metadata": {},
   "outputs": [],
   "source": [
    "spectral.save_rgb(\"predictions.jpg\", outputs.astype(int), colors=spectral.spy_colors)"
   ]
  }
 ],
 "metadata": {
  "kernelspec": {
   "display_name": "Python 3",
   "language": "python",
   "name": "python3"
  },
  "language_info": {
   "codemirror_mode": {
    "name": "ipython",
    "version": 3
   },
   "file_extension": ".py",
   "mimetype": "text/x-python",
   "name": "python",
   "nbconvert_exporter": "python",
   "pygments_lexer": "ipython3",
   "version": "3.7.3"
  }
 },
 "nbformat": 4,
 "nbformat_minor": 2
}
