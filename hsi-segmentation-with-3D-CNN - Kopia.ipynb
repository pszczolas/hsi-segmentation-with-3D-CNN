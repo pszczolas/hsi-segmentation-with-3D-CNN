{
 "cells": [
  {
   "cell_type": "code",
   "execution_count": 1,
   "metadata": {},
   "outputs": [
    {
     "name": "stderr",
     "output_type": "stream",
     "text": [
      "Using TensorFlow backend.\n"
     ]
    }
   ],
   "source": [
    "import keras\n",
    "from keras.layers import MaxPooling3D, Conv2D, Conv3D, Flatten, Dense, Reshape, BatchNormalization\n",
    "from keras.layers import Dropout, Input\n",
    "from keras.models import Model\n",
    "from keras.optimizers import Adam\n",
    "from keras.callbacks import ModelCheckpoint\n",
    "from keras.utils import np_utils\n",
    "from keras.preprocessing.image import ImageDataGenerator\n",
    "\n",
    "from sklearn.decomposition import PCA, KernelPCA\n",
    "from sklearn.model_selection import train_test_split\n",
    "from sklearn.metrics import confusion_matrix, accuracy_score, classification_report, cohen_kappa_score\n",
    "\n",
    "from operator import truediv\n",
    "\n",
    "import math\n",
    "import random\n",
    "\n",
    "#from plotly.offline import init_notebook_mode\n",
    "\n",
    "import numpy as np\n",
    "import matplotlib.pyplot as plt\n",
    "import scipy.io as sio\n",
    "import os\n",
    "import spectral\n",
    "\n",
    "#init_notebook_mode(connected=True)\n",
    "%matplotlib inline"
   ]
  },
  {
   "cell_type": "markdown",
   "metadata": {},
   "source": [
    "# Data Loading"
   ]
  },
  {
   "cell_type": "code",
   "execution_count": 2,
   "metadata": {},
   "outputs": [],
   "source": [
    "## GLOBAL VARIABLES\n",
    "dataset = 'SA'\n",
    "test_ratio = 0.7\n",
    "windowSize = 9\n",
    "shouldApplyPCA = False\n",
    "numComponentsPCA = 20\n",
    "shouldUseBigMargin = False"
   ]
  },
  {
   "cell_type": "code",
   "execution_count": 3,
   "metadata": {},
   "outputs": [],
   "source": [
    "def loadData(name):\n",
    "    data_path = os.path.join(os.getcwd(),'data')\n",
    "    if name == 'IP':\n",
    "        data = sio.loadmat(os.path.join(data_path, 'Indian_pines_corrected.mat'))['indian_pines_corrected']\n",
    "        labels = sio.loadmat(os.path.join(data_path, 'Indian_pines_gt.mat'))['indian_pines_gt']\n",
    "    elif name == 'SA':\n",
    "        data = sio.loadmat(os.path.join(data_path, 'Salinas_corrected.mat'))['salinas_corrected']\n",
    "        labels = sio.loadmat(os.path.join(data_path, 'Salinas_gt.mat'))['salinas_gt']\n",
    "    elif name == 'PU':\n",
    "        data = sio.loadmat(os.path.join(data_path, 'PaviaU.mat'))['paviaU']\n",
    "        labels = sio.loadmat(os.path.join(data_path, 'PaviaU_gt.mat'))['paviaU_gt']\n",
    "    elif name == 'SAA':\n",
    "        data = sio.loadmat(os.path.join(data_path, 'SalinasA_corrected.mat'))['salinasA_corrected']\n",
    "        labels = sio.loadmat(os.path.join(data_path, 'SalinasA_gt.mat'))['salinasA_gt']\n",
    "    \n",
    "    return data, labels\n",
    "\n",
    "def splitTrainTestSet(X, y, testRatio, randomState=345):\n",
    "    X_train, X_test, y_train, y_test = train_test_split(X, y, test_size=testRatio, random_state=randomState,\n",
    "                                                        stratify=y)\n",
    "    return X_train, X_test, y_train, y_test\n",
    "\n",
    "# TODO ta metoda modyfikuje dane, a może nie powinna?\n",
    "# TODO w zbiorze wynikowym moga pojawic sie duplikaty\n",
    "# TODO przez to, że część danych jest odrzucana, faktyczny testRatio będzie zwykle sporo mniejszy\n",
    "def spitTrainTestSet2(X, y, testRatio, testSquareSize):\n",
    "    number_of_pixels = X.shape[0] * X.shape[1]\n",
    "    pixels_in_test = testRatio * number_of_pixels\n",
    "    test_squares_count = pixels_in_test / (testSquareSize * testSquareSize)\n",
    "    test_squares_count_floor = math.floor(test_squares_count)\n",
    "\n",
    "    failures = 0\n",
    "    test_squares = np.zeros((test_squares_count_floor, testSquareSize, testSquareSize, X.shape[2]))\n",
    "    test_squares_labels = np.zeros((test_squares_count_floor, testSquareSize, testSquareSize))\n",
    "    i = 0\n",
    "    while i < test_squares_count_floor:\n",
    "    #for i in range(test_squares_count_floor):\n",
    "        y_coord = random.randint(0,X.shape[0] - testSquareSize - 1) #pion\n",
    "        x_coord = random.randint(0,X.shape[1] - testSquareSize - 1) #poziom\n",
    "        #ten if ma zahardkodowane 20, czyli teraz nigdy do niego nie wejdzie. Zachowanie może i ok, ale trzeba usunac duplikaty z wynikowego zbiotu testowego\n",
    "        if y[y_coord, x_coord] == 20 or y[y_coord + testSquareSize, x_coord] == 20 or y[y_coord, x_coord + testSquareSize] == 20 or y[y_coord + testSquareSize, x_coord + testSquareSize] == 20:\n",
    "            failures = failures + 1\n",
    "        else:\n",
    "            test_squares[i] = X[y_coord : y_coord + testSquareSize, x_coord : x_coord + testSquareSize, :]\n",
    "            test_squares_labels[i] = y[y_coord : y_coord + testSquareSize, x_coord : x_coord + testSquareSize] \n",
    "            y[y_coord : y_coord + testSquareSize, x_coord : x_coord + testSquareSize] = 0 #20\n",
    "            i += 1\n",
    "\n",
    "    print(failures)\n",
    "    return test_squares_count_floor, test_squares, test_squares_labels, y\n",
    "    \n",
    "def spitTrainTestSet3(X, y, testRatio, testSquareSize, markTestSquaresAsBg = True):\n",
    "    y_copy = np.copy(y)\n",
    "    number_of_pixels = X.shape[0] * X.shape[1]\n",
    "    pixels_in_test = testRatio * number_of_pixels\n",
    "    test_squares_count = pixels_in_test / (testSquareSize * testSquareSize)\n",
    "    test_squares_count_floor = math.floor(test_squares_count)\n",
    "\n",
    "    failures = 0\n",
    "    test_squares = np.zeros((test_squares_count_floor, testSquareSize, testSquareSize, X.shape[2]))\n",
    "    test_squares_labels = np.zeros((test_squares_count_floor, testSquareSize, testSquareSize))\n",
    "    i = 0\n",
    "    while i < test_squares_count_floor:\n",
    "        y_coord = random.randint(0,X.shape[0] - testSquareSize - 1) #pion\n",
    "        x_coord = random.randint(0,X.shape[1] - testSquareSize - 1) #poziom\n",
    "        if y[y_coord, x_coord] == 100 or y[y_coord + testSquareSize, x_coord] == 100 or y[y_coord, x_coord + testSquareSize] == 100 or y[y_coord + testSquareSize, x_coord + testSquareSize] == 100:\n",
    "            failures = failures + 1\n",
    "            if failures == 1000 or failures == 3000:\n",
    "                print(failures)\n",
    "            if failures == 6000:\n",
    "                y = y_copy\n",
    "                raise NameError('Hello there')\n",
    "        else:\n",
    "            test_squares[i] = X[y_coord : y_coord + testSquareSize, x_coord : x_coord + testSquareSize, :]\n",
    "            test_squares_labels[i] = y[y_coord : y_coord + testSquareSize, x_coord : x_coord + testSquareSize] \n",
    "            y[y_coord : y_coord + testSquareSize, x_coord : x_coord + testSquareSize] = 100\n",
    "            i += 1\n",
    "\n",
    "    print(failures)\n",
    "    for i in range(y.shape[0]):\n",
    "        for j in range(y.shape[1]):\n",
    "            if y[i,j] == 100 and markTestSquaresAsBg:\n",
    "                y[i,j] = 0\n",
    "    return test_squares_count_floor, test_squares, test_squares_labels, y\n",
    "\n",
    "def countClassesInLabelSquares(classesCount, labelSquares, windowSize, shouldUseBigMargin = False):\n",
    "    margin = int((windowSize - 1) / 2)\n",
    "    if shouldUseBigMargin:\n",
    "        margin = windowSize\n",
    "    classes_in_squares = np.zeros((classesCount))\n",
    "    for i in range(labelSquares.shape[0]):\n",
    "        for j in range(margin, labelSquares.shape[1] - margin):\n",
    "            for k in range(margin, labelSquares.shape[2] - margin):\n",
    "                c = int(labelSquares[i, j, k])\n",
    "                classes_in_squares[c] += 1\n",
    "    return classes_in_squares \n",
    "\n",
    "#can be merged with above\n",
    "def countClassesInGt(classesCount, gt):\n",
    "    classes_in_gt = np.zeros((classesCount))\n",
    "    for i in range(gt.shape[0]):\n",
    "        for j in range(gt.shape[1]):\n",
    "            c = int(gt[i, j])\n",
    "            classes_in_gt[c] += 1\n",
    "    return classes_in_gt \n",
    "\n",
    "def convertSquaresToTestSets(testSquares, testLabelSquares, resultWindowSize, classesInSquares, shouldUseBigMargin = False): #resultWindowSize should be odd\n",
    "    distanceFromCenter = int((resultWindowSize - 1) / 2) # distanceFromCenter + 1 + distanceFromCenter = resultWindowSize\n",
    "    margin = int((resultWindowSize - 1) / 2)\n",
    "    if shouldUseBigMargin:\n",
    "        margin = resultWindowSize\n",
    "    testCount = int(classesInSquares)\n",
    "    #testSet = np.zeros((testCount, resultWindowSize, resultWindowSize, testSquares.shape[3]))\n",
    "    testSet = np.memmap('testSet1.mymemmap', dtype='float32', mode='w+', shape=(testCount, resultWindowSize, resultWindowSize, testSquares.shape[3]))\n",
    "    testSetLabels = np.zeros((testCount))\n",
    "    testSet_GT = np.zeros((testCount, resultWindowSize, resultWindowSize))\n",
    "    print(margin, testCount)\n",
    "    for i in range(testSquares.shape[0]):\n",
    "        for j in range(margin, testSquares.shape[1] - margin):\n",
    "            for k in range(margin, testSquares.shape[2] - margin):\n",
    "                if testLabelSquares[i, j, k] != 0:\n",
    "                    testCount -= 1\n",
    "                    testSet[testCount] = testSquares[i, j - distanceFromCenter : j + distanceFromCenter + 1, k - distanceFromCenter : k + distanceFromCenter + 1,:]\n",
    "                    testSetLabels[testCount] = testLabelSquares[i, j, k]\n",
    "                    testSet_GT[testCount] = testLabelSquares[i, j - distanceFromCenter : j + distanceFromCenter + 1, k - distanceFromCenter : k + distanceFromCenter + 1]\n",
    "    \n",
    "    return testSet, testSetLabels, testSet_GT\n",
    "\n",
    "#------------nie to-------------\n",
    "def convertSquaresToTestSetsAndTreatBackgroundAsClass(testSquares, testLabelSquares, resultWindowSize): #resultWindowSize should be odd\n",
    "    margin = int((resultWindowSize - 1) / 2)\n",
    "    testCount = testLabelSquares.shape[0] * testLabelSquares.shape[1] * testLabelSquares.shape[2]\n",
    "    testSet = np.memmap('testSet.mymemmap', dtype='float32', mode='w+', shape=(testCount, resultWindowSize, resultWindowSize, testSquares.shape[3]))\n",
    "    testSet = np.zeros((testCount, resultWindowSize, resultWindowSize, testSquares.shape[3]))\n",
    "    testSetLabels = np.zeros((testCount))\n",
    "    testSet_GT = np.zeros((testCount, resultWindowSize, resultWindowSize))\n",
    "    for i in range(testSquares.shape[0]):\n",
    "        for j in range(margin, testSquares.shape[1] - margin):\n",
    "            for k in range(margin, testSquares.shape[2] - margin):\n",
    "                testCount -= 1\n",
    "                testSet[testCount] = testSquares[i, j - margin : j + margin + 1, k - margin : k + margin + 1,:]\n",
    "                testSetLabels[testCount] = testLabelSquares[i, j, k]\n",
    "                testSet_GT[testCount] = testLabelSquares[i, j - margin : j + margin + 1, k - margin : k + margin + 1]\n",
    "    \n",
    "    return testSet, testSetLabels, testSet_GT\n",
    "#------------------------------------\n",
    "\n",
    "def countPixelsOtherThanValue(gt, value):\n",
    "    count = 0\n",
    "    for i in range(gt.shape[0]):\n",
    "        for j in range(gt.shape[1]):\n",
    "            if gt[i, j] != value:\n",
    "                count += 1\n",
    "    return count\n",
    "\n",
    "def countBackgroundPixels(labels):\n",
    "    count = 0\n",
    "    for i in range(labels.shape[0]):\n",
    "        if labels[i] == 0:\n",
    "            count += 1\n",
    "    return count\n",
    "\n",
    "def applyPCA(X, numComponents=75, useKernelPCA=False):\n",
    "    newX = np.reshape(X, (-1, X.shape[2]))\n",
    "    if useKernelPCA:\n",
    "        pca = PCA(n_components=numComponents, whiten=True)\n",
    "    else:\n",
    "        pca = KernelPCA(n_components=numComponents, kernel='rbf')\n",
    "    newX = pca.fit_transform(newX)\n",
    "    newX = np.reshape(newX, (X.shape[0],X.shape[1], numComponents))\n",
    "    return newX, pca\n",
    "\n",
    "def padWithZeros(X, margin=2):\n",
    "    newX = np.zeros((X.shape[0] + 2 * margin, X.shape[1] + 2* margin, X.shape[2]))\n",
    "    x_offset = margin\n",
    "    y_offset = margin\n",
    "    newX[x_offset:X.shape[0] + x_offset, y_offset:X.shape[1] + y_offset, :] = X\n",
    "    return newX\n",
    "\n",
    "def createImageCubes(X, y, windowSize=5, treatBgAsClass = False):\n",
    "    notIncludedPixelValue = 100 if treatBgAsClass else 0 #look to func when squares are selected split3\n",
    "    margin = int((windowSize - 1) / 2)\n",
    "    zeroPaddedX = padWithZeros(X, margin=margin)\n",
    "    # split patches\n",
    "    patchesData = np.memmap('test1.mymemmap', dtype='float32', mode='w+', shape=(countPixelsOtherThanValue(y, notIncludedPixelValue), windowSize, windowSize, X.shape[2]))\n",
    "    #patchesData = np.zeros((countPixelsOtherThanValue(y, notIncludedPixelValue), windowSize, windowSize, X.shape[2]))\n",
    "    patchesLabels = np.zeros((countPixelsOtherThanValue(y, notIncludedPixelValue)))\n",
    "    patchIndex = 0\n",
    "    for r in range(margin, zeroPaddedX.shape[0] - margin):\n",
    "        for c in range(margin, zeroPaddedX.shape[1] - margin):\n",
    "            if y[r-margin, c-margin] != notIncludedPixelValue:\n",
    "                patch = zeroPaddedX[r - margin:r + margin + 1, c - margin:c + margin + 1]   \n",
    "                patchesData[patchIndex, :, :, :] = patch\n",
    "                patchesLabels[patchIndex] = y[r-margin, c-margin]\n",
    "                patchIndex = patchIndex + 1\n",
    "\n",
    "    return patchesData, patchesLabels\n",
    "\n",
    "def balanceSetByTreshold(samples, labels, treshold, numClasses):\n",
    "    randomIndexes = np.arange(labels.shape[0])\n",
    "    np.random.shuffle(randomIndexes)\n",
    "    print(randomIndexes.shape[0])\n",
    "    counters = np.zeros((numClasses))\n",
    "    print(counters)\n",
    "    balancedSamples = []\n",
    "    balancedLabels = []\n",
    "    for i in randomIndexes:\n",
    "        currentClass = int(labels[i])\n",
    "        counters[currentClass - 1] += 1\n",
    "        if counters[currentClass - 1] < treshold:\n",
    "            balancedSamples.append(samples[i])\n",
    "            balancedLabels.append(labels[i])\n",
    "    return np.array(balancedSamples), np.array(balancedLabels)\n",
    "    "
   ]
  },
  {
   "cell_type": "code",
   "execution_count": 10,
   "metadata": {},
   "outputs": [
    {
     "name": "stdout",
     "output_type": "stream",
     "text": [
      "(512, 217, 204) (512, 217)\n"
     ]
    },
    {
     "data": {
      "image/png": "[encoded data removed]",
      "text/plain": [
       "<Figure size 504x504 with 1 Axes>"
      ]
     },
     "metadata": {
      "needs_background": "light"
     },
     "output_type": "display_data"
    }
   ],
   "source": [
    "\n",
    "                        #################### <--- REAL FUN STARTS HERE ---> ####################\n",
    "\n",
    "\n",
    "X, y = loadData(dataset)\n",
    "\n",
    "print(X.shape, y.shape)\n",
    "\n",
    "ground_truth = spectral.imshow(classes = y,figsize =(7,7))"
   ]
  },
  {
   "cell_type": "code",
   "execution_count": 5,
   "metadata": {},
   "outputs": [],
   "source": [
    "if shouldApplyPCA:\n",
    "    #X,pca = applyPCA(X,numComponents=numComponentsPCA)\n",
    "    X,pca = applyPCA(X,numComponents=numComponentsPCA, useKernelPCA=True)\n",
    "    print(X.shape)"
   ]
  },
  {
   "cell_type": "code",
   "execution_count": 6,
   "metadata": {},
   "outputs": [
    {
     "data": {
      "image/png": "[encoded data removed]",
      "text/plain": [
       "<Figure size 432x288 with 1 Axes>"
      ]
     },
     "metadata": {
      "needs_background": "light"
     },
     "output_type": "display_data"
    }
   ],
   "source": [
    "view = spectral.imshow(X, (100,50,0))"
   ]
  },
  {
   "cell_type": "code",
   "execution_count": 11,
   "metadata": {},
   "outputs": [
    {
     "name": "stdout",
     "output_type": "stream",
     "text": [
      "1000\n",
      "1580\n"
     ]
    },
    {
     "data": {
      "text/plain": [
       "(66, 29, 29, 204)"
      ]
     },
     "execution_count": 11,
     "metadata": {},
     "output_type": "execute_result"
    }
   ],
   "source": [
    "testSquaresCount, testSquares, testSquares_GT, y = spitTrainTestSet3(X, y, 0.50, windowSize + 20)#windowSize + 15)\n",
    "#testSquaresCount, testSquares, testSquares_GT, y = spitTrainTestSet2(X, y, 1, windowSize + 10)\n",
    "testSquares.shape"
   ]
  },
  {
   "cell_type": "code",
   "execution_count": 12,
   "metadata": {},
   "outputs": [
    {
     "data": {
      "image/png": "[encoded data removed]",
      "text/plain": [
       "<Figure size 504x504 with 1 Axes>"
      ]
     },
     "metadata": {
      "needs_background": "light"
     },
     "output_type": "display_data"
    }
   ],
   "source": [
    "ground_truth = spectral.imshow(classes = y, figsize =(7,7))"
   ]
  },
  {
   "cell_type": "code",
   "execution_count": 13,
   "metadata": {},
   "outputs": [
    {
     "name": "stdout",
     "output_type": "stream",
     "text": [
      "17\n"
     ]
    },
    {
     "data": {
      "text/plain": [
       "(array([13879.,   739.,   794.,   280.,   249.,   602.,  1316.,  1209.,\n",
       "         3333.,  1821.,  1159.,   157.,   566.,   144.,   238.,  2248.,\n",
       "          372.]),\n",
       " array([85318.,   769.,  2236.,  1336.,   784.,  1535.,  1537.,  1306.,\n",
       "         5022.,  2893.,  1170.,   759.,   961.,   568.,   578.,  3126.,\n",
       "         1206.]))"
      ]
     },
     "execution_count": 13,
     "metadata": {},
     "output_type": "execute_result"
    }
   ],
   "source": [
    "#TU JEST ZAHARDCODOWANA ILOSC KLAS. można zrobić count(unique(labels)) albo max(labels)\n",
    "print(len(np.unique(y)))\n",
    "classes_in_test_squares = countClassesInLabelSquares(len(np.unique(y)), testSquares_GT, windowSize, shouldUseBigMargin) # 16 classes + 1 for bacground\n",
    "classes_in_train_set = countClassesInGt(len(np.unique(y)), y)\n",
    "#brakuje takich samych danych dla treningowego\n",
    "classes_in_test_squares, classes_in_train_set"
   ]
  },
  {
   "cell_type": "code",
   "execution_count": 14,
   "metadata": {},
   "outputs": [
    {
     "name": "stdout",
     "output_type": "stream",
     "text": [
      "(66, 29, 29, 204) (66, 29, 29) 9 15227.0\n",
      "4 15227\n"
     ]
    }
   ],
   "source": [
    "classes_in_squares_count = np.sum(classes_in_test_squares[1 : classes_in_test_squares.shape[0]])\n",
    "print(testSquares.shape, testSquares_GT.shape, windowSize, classes_in_squares_count)\n",
    "testSet, testSetLabels, testSet_GT = convertSquaresToTestSets(testSquares, testSquares_GT, windowSize, classes_in_squares_count, shouldUseBigMargin)"
   ]
  },
  {
   "cell_type": "code",
   "execution_count": 15,
   "metadata": {},
   "outputs": [
    {
     "data": {
      "text/plain": [
       "((15227, 9, 9, 204), (15227,), (15227, 9, 9))"
      ]
     },
     "execution_count": 15,
     "metadata": {},
     "output_type": "execute_result"
    }
   ],
   "source": [
    "testSet.shape, testSetLabels.shape, testSet_GT.shape"
   ]
  },
  {
   "cell_type": "code",
   "execution_count": 16,
   "metadata": {},
   "outputs": [
    {
     "data": {
      "text/plain": [
       "((25786, 9, 9, 204), (25786,))"
      ]
     },
     "execution_count": 16,
     "metadata": {},
     "output_type": "execute_result"
    }
   ],
   "source": [
    "trainSet, trainSetLabels = createImageCubes(X, y, windowSize=windowSize)\n",
    "\n",
    "trainSet.shape, trainSetLabels.shape"
   ]
  },
  {
   "cell_type": "code",
   "execution_count": 128,
   "metadata": {},
   "outputs": [],
   "source": [
    "#CHYBA NIE POTRZEBNE\n",
    "#trainSet, trainSetLabels = balanceSetByTreshold(trainSet, trainSetLabels, 3000, 9)"
   ]
  },
  {
   "cell_type": "code",
   "execution_count": 17,
   "metadata": {},
   "outputs": [
    {
     "data": {
      "text/plain": [
       "((25786, 9, 9, 204), (15227, 9, 9, 204), (25786,), (15227,))"
      ]
     },
     "execution_count": 17,
     "metadata": {},
     "output_type": "execute_result"
    }
   ],
   "source": [
    "trainSet.shape, testSet.shape, trainSetLabels.shape, testSetLabels.shape"
   ]
  },
  {
   "cell_type": "code",
   "execution_count": 18,
   "metadata": {},
   "outputs": [
    {
     "data": {
      "text/plain": [
       "{1.0: 769,\n",
       " 2.0: 2236,\n",
       " 3.0: 1336,\n",
       " 4.0: 784,\n",
       " 5.0: 1535,\n",
       " 6.0: 1537,\n",
       " 7.0: 1306,\n",
       " 8.0: 5022,\n",
       " 9.0: 2893,\n",
       " 10.0: 1170,\n",
       " 11.0: 759,\n",
       " 12.0: 961,\n",
       " 13.0: 568,\n",
       " 14.0: 578,\n",
       " 15.0: 3126,\n",
       " 16.0: 1206}"
      ]
     },
     "execution_count": 18,
     "metadata": {},
     "output_type": "execute_result"
    }
   ],
   "source": [
    "unique, counts = np.unique(trainSetLabels, return_counts=True)\n",
    "dict(zip(unique, counts))"
   ]
  },
  {
   "cell_type": "code",
   "execution_count": 19,
   "metadata": {},
   "outputs": [],
   "source": [
    "#just to not rename everything in notebook\n",
    "Xtrain = trainSet\n",
    "Xtest = testSet\n",
    "ytrain = trainSetLabels - 1\n",
    "ytest = testSetLabels - 1"
   ]
  },
  {
   "cell_type": "code",
   "execution_count": 18,
   "metadata": {},
   "outputs": [],
   "source": [
    "#just to not rename everything in notebook\n",
    "Xtest = trainSet\n",
    "Xtrain = testSet\n",
    "ytest = trainSetLabels - 1\n",
    "ytrain = testSetLabels - 1"
   ]
  },
  {
   "cell_type": "code",
   "execution_count": 20,
   "metadata": {},
   "outputs": [
    {
     "data": {
      "text/plain": [
       "((25786, 9, 9, 204), (15227, 9, 9, 204), (25786,), (15227,))"
      ]
     },
     "execution_count": 20,
     "metadata": {},
     "output_type": "execute_result"
    }
   ],
   "source": [
    "Xtrain.shape, Xtest.shape, ytrain.shape, ytest.shape"
   ]
  },
  {
   "cell_type": "markdown",
   "metadata": {},
   "source": [
    "# Model and Training"
   ]
  },
  {
   "cell_type": "code",
   "execution_count": 21,
   "metadata": {},
   "outputs": [
    {
     "data": {
      "text/plain": [
       "((25786, 16), (15227, 16))"
      ]
     },
     "execution_count": 21,
     "metadata": {},
     "output_type": "execute_result"
    }
   ],
   "source": [
    "ytrain = np_utils.to_categorical(ytrain)\n",
    "ytest = np_utils.to_categorical(ytest)\n",
    "ytrain.shape, ytest.shape"
   ]
  },
  {
   "cell_type": "code",
   "execution_count": 49,
   "metadata": {},
   "outputs": [],
   "source": [
    "S = windowSize\n",
    "L = numComponentsPCA if (shouldApplyPCA) else Xtrain.shape[3]\n",
    "output_units = 9 if (dataset == 'PU' or dataset == 'PC') else 16"
   ]
  },
  {
   "cell_type": "code",
   "execution_count": 68,
   "metadata": {},
   "outputs": [],
   "source": [
    "input_layer = Input((S, S, L))\n",
    "\n",
    "reshape_layer = Reshape((S, S, L, 1))(input_layer)\n",
    "\n",
    "conv_layer1 = Conv3D(filters=2, kernel_size=(3, 3, 7), strides=(1, 1, 2), activation='relu')(reshape_layer) #7\n",
    "conv_layer2 = Conv3D(filters=4, kernel_size=(3, 3, 3), strides=(1, 1, 1), activation='relu')(conv_layer1) #5\n",
    "conv_layer3 = Conv3D(filters=8, kernel_size=(3, 3, 3), strides=(1, 1, 1), activation='relu')(conv_layer2) #5\n",
    "conv_layer4 = Conv3D(filters=16, kernel_size=(3, 3, 3), strides=(1, 1, 1), activation='relu')(conv_layer3) #5\n",
    "\n",
    "flatten_layer = Flatten()(conv_layer4)\n",
    "dense_layer1 = Dense(units=288, activation='relu')(flatten_layer)\n",
    "dense_layer1 = Dropout(0.1)(dense_layer1)\n",
    "dense_layer2 = Dense(units=144, activation='relu')(dense_layer1)\n",
    "dense_layer2 = Dropout(0.1)(dense_layer2)\n",
    "output_layer = Dense(units=output_units, activation='softmax')(dense_layer2)\n",
    "\n",
    "\n",
    "#było, ale nie działa\n",
    "#flatten_layer = Flatten()(conv_layer3)\n",
    "#dense_layer1 = Dense(units=288, activation='relu')(flatten_layer)\n",
    "#dense_layer2 = Dense(units=144, activation='relu')(dense_layer1)"
   ]
  },
  {
   "cell_type": "code",
   "execution_count": 36,
   "metadata": {},
   "outputs": [
    {
     "name": "stdout",
     "output_type": "stream",
     "text": [
      "WARNING:tensorflow:From C:\\Users\\Marcin\\Anaconda3\\envs\\PythonGPU\\lib\\site-packages\\keras\\backend\\tensorflow_backend.py:3445: calling dropout (from tensorflow.python.ops.nn_ops) with keep_prob is deprecated and will be removed in a future version.\n",
      "Instructions for updating:\n",
      "Please use `rate` instead of `keep_prob`. Rate should be set to `rate = 1 - keep_prob`.\n"
     ]
    }
   ],
   "source": [
    "## input layer\n",
    "input_layer = Input((S, S, L))\n",
    "\n",
    "reshape_layer = Reshape((S, S, L, 1))(input_layer)\n",
    "\n",
    "#mp3 = MaxPooling3D(pool_size=(1, 1, 2))(conv_layer_1D_3)\n",
    "## convolutional layers\n",
    "conv_layer1 = Conv3D(filters=8, kernel_size=(3, 3, 7), strides=(1, 1, 1), activation='relu')(reshape_layer) #7\n",
    "conv_layer2 = Conv3D(filters=16, kernel_size=(3, 3, 5), strides=(1, 1, 1), activation='relu')(conv_layer1) #5\n",
    "conv_layer3 = Conv3D(filters=32, kernel_size=(3, 3, 3), strides=(1, 1, 1), activation='relu')(conv_layer2) #3\n",
    "conv_layer4 = Conv3D(filters=64, kernel_size=(3, 3, 3), strides=(1, 1, 1), activation='relu')(conv_layer3) #3\n",
    "#mp = MaxPooling3D((3,3,3))(conv_layer4)\n",
    "\n",
    "flatten_layer = Flatten()(conv_layer4)\n",
    "\n",
    "## fully connected layers\n",
    "dense_layer1 = Dense(units=288, activation='relu')(flatten_layer)\n",
    "dense_layer1 = Dropout(0.4)(dense_layer1)\n",
    "dense_layer2 = Dense(units=144, activation='relu')(dense_layer1)\n",
    "dense_layer2 = Dropout(0.4)(dense_layer2)\n",
    "output_layer = Dense(units=output_units, activation='softmax')(dense_layer2)"
   ]
  },
  {
   "cell_type": "code",
   "execution_count": 69,
   "metadata": {},
   "outputs": [],
   "source": [
    "# define the model with input layer and output layer\n",
    "model = Model(inputs=input_layer, outputs=output_layer)"
   ]
  },
  {
   "cell_type": "code",
   "execution_count": 70,
   "metadata": {},
   "outputs": [
    {
     "name": "stdout",
     "output_type": "stream",
     "text": [
      "_________________________________________________________________\n",
      "Layer (type)                 Output Shape              Param #   \n",
      "=================================================================\n",
      "input_9 (InputLayer)         (None, 9, 9, 204)         0         \n",
      "_________________________________________________________________\n",
      "reshape_9 (Reshape)          (None, 9, 9, 204, 1)      0         \n",
      "_________________________________________________________________\n",
      "conv3d_33 (Conv3D)           (None, 7, 7, 99, 2)       128       \n",
      "_________________________________________________________________\n",
      "conv3d_34 (Conv3D)           (None, 5, 5, 97, 4)       220       \n",
      "_________________________________________________________________\n",
      "conv3d_35 (Conv3D)           (None, 3, 3, 95, 8)       872       \n",
      "_________________________________________________________________\n",
      "conv3d_36 (Conv3D)           (None, 1, 1, 93, 16)      3472      \n",
      "_________________________________________________________________\n",
      "flatten_9 (Flatten)          (None, 1488)              0         \n",
      "_________________________________________________________________\n",
      "dense_25 (Dense)             (None, 288)               428832    \n",
      "_________________________________________________________________\n",
      "dropout_3 (Dropout)          (None, 288)               0         \n",
      "_________________________________________________________________\n",
      "dense_26 (Dense)             (None, 144)               41616     \n",
      "_________________________________________________________________\n",
      "dropout_4 (Dropout)          (None, 144)               0         \n",
      "_________________________________________________________________\n",
      "dense_27 (Dense)             (None, 16)                2320      \n",
      "=================================================================\n",
      "Total params: 477,460\n",
      "Trainable params: 477,460\n",
      "Non-trainable params: 0\n",
      "_________________________________________________________________\n"
     ]
    }
   ],
   "source": [
    "model.summary()"
   ]
  },
  {
   "cell_type": "code",
   "execution_count": 71,
   "metadata": {},
   "outputs": [],
   "source": [
    "# compiling the model\n",
    "adam = Adam(lr=0.001, decay=1e-06)\n",
    "model.compile(loss='categorical_crossentropy', optimizer=adam, metrics=['accuracy'])"
   ]
  },
  {
   "cell_type": "code",
   "execution_count": 72,
   "metadata": {},
   "outputs": [],
   "source": [
    "# checkpoint\n",
    "filepath = \"best-model-3D.hdf5\"\n",
    "checkpoint = ModelCheckpoint(filepath, monitor='acc', verbose=1, save_best_only=True, mode='max')\n",
    "callbacks_list = [checkpoint]"
   ]
  },
  {
   "cell_type": "code",
   "execution_count": 73,
   "metadata": {},
   "outputs": [
    {
     "name": "stdout",
     "output_type": "stream",
     "text": [
      "Epoch 1/30\n",
      "100/100 [==============================] - 16s 156ms/step - loss: 2.6487 - acc: 0.3512 - val_loss: 1.2085 - val_acc: 0.4966\n",
      "\n",
      "Epoch 00001: acc improved from -inf to 0.35117, saving model to best-model-3D.hdf5\n",
      "Epoch 2/30\n",
      "100/100 [==============================] - 14s 144ms/step - loss: 0.9468 - acc: 0.6305 - val_loss: 0.8166 - val_acc: 0.6883\n",
      "\n",
      "Epoch 00002: acc improved from 0.35117 to 0.63075, saving model to best-model-3D.hdf5\n",
      "Epoch 3/30\n",
      "100/100 [==============================] - 14s 144ms/step - loss: 0.5465 - acc: 0.7848 - val_loss: 0.5594 - val_acc: 0.7675\n",
      "\n",
      "Epoch 00003: acc improved from 0.63075 to 0.78496, saving model to best-model-3D.hdf5\n",
      "Epoch 4/30\n",
      "100/100 [==============================] - 14s 144ms/step - loss: 0.4152 - acc: 0.8302 - val_loss: 0.5507 - val_acc: 0.7665\n",
      "\n",
      "Epoch 00004: acc improved from 0.78496 to 0.83020, saving model to best-model-3D.hdf5\n",
      "Epoch 5/30\n",
      "100/100 [==============================] - 14s 145ms/step - loss: 0.3210 - acc: 0.8680 - val_loss: 0.5220 - val_acc: 0.7990\n",
      "\n",
      "Epoch 00005: acc improved from 0.83020 to 0.86796, saving model to best-model-3D.hdf5\n",
      "Epoch 6/30\n",
      "100/100 [==============================] - 15s 145ms/step - loss: 0.2739 - acc: 0.8862 - val_loss: 0.5264 - val_acc: 0.7945\n",
      "\n",
      "Epoch 00006: acc improved from 0.86796 to 0.88621, saving model to best-model-3D.hdf5\n",
      "Epoch 7/30\n",
      "100/100 [==============================] - 15s 145ms/step - loss: 0.2402 - acc: 0.9021 - val_loss: 0.4682 - val_acc: 0.8203\n",
      "\n",
      "Epoch 00007: acc improved from 0.88621 to 0.90219, saving model to best-model-3D.hdf5\n",
      "Epoch 8/30\n",
      "100/100 [==============================] - 15s 145ms/step - loss: 0.2493 - acc: 0.8977 - val_loss: 0.6246 - val_acc: 0.7680\n",
      "\n",
      "Epoch 00008: acc did not improve from 0.90219\n",
      "Epoch 9/30\n",
      "100/100 [==============================] - 15s 146ms/step - loss: 0.2207 - acc: 0.9111 - val_loss: 0.4916 - val_acc: 0.8114\n",
      "\n",
      "Epoch 00009: acc improved from 0.90219 to 0.91128, saving model to best-model-3D.hdf5\n",
      "Epoch 10/30\n",
      "100/100 [==============================] - 15s 145ms/step - loss: 0.2008 - acc: 0.9155 - val_loss: 0.4502 - val_acc: 0.8333\n",
      "\n",
      "Epoch 00010: acc improved from 0.91128 to 0.91555, saving model to best-model-3D.hdf5\n",
      "Epoch 11/30\n",
      "100/100 [==============================] - 15s 145ms/step - loss: 0.1891 - acc: 0.9212 - val_loss: 0.5249 - val_acc: 0.8164\n",
      "\n",
      "Epoch 00011: acc improved from 0.91555 to 0.92111, saving model to best-model-3D.hdf5\n",
      "Epoch 12/30\n",
      "100/100 [==============================] - 15s 146ms/step - loss: 0.1827 - acc: 0.9257 - val_loss: 0.4972 - val_acc: 0.8301\n",
      "\n",
      "Epoch 00012: acc improved from 0.92111 to 0.92573, saving model to best-model-3D.hdf5\n",
      "Epoch 13/30\n",
      "100/100 [==============================] - 15s 146ms/step - loss: 0.1608 - acc: 0.9333 - val_loss: 0.4706 - val_acc: 0.8383\n",
      "\n",
      "Epoch 00013: acc improved from 0.92573 to 0.93329, saving model to best-model-3D.hdf5\n",
      "Epoch 14/30\n",
      "100/100 [==============================] - 15s 146ms/step - loss: 0.1909 - acc: 0.9210 - val_loss: 0.5010 - val_acc: 0.8237\n",
      "\n",
      "Epoch 00014: acc did not improve from 0.93329\n",
      "Epoch 15/30\n",
      "100/100 [==============================] - 15s 146ms/step - loss: 0.1303 - acc: 0.9477 - val_loss: 0.4935 - val_acc: 0.8456\n",
      "\n",
      "Epoch 00015: acc improved from 0.93329 to 0.94767, saving model to best-model-3D.hdf5\n",
      "Epoch 16/30\n",
      "100/100 [==============================] - 15s 146ms/step - loss: 0.1315 - acc: 0.9465 - val_loss: 0.4962 - val_acc: 0.8279\n",
      "\n",
      "Epoch 00016: acc did not improve from 0.94767\n",
      "Epoch 17/30\n",
      "100/100 [==============================] - 15s 146ms/step - loss: 0.1149 - acc: 0.9543 - val_loss: 0.5224 - val_acc: 0.8410\n",
      "\n",
      "Epoch 00017: acc improved from 0.94767 to 0.95429, saving model to best-model-3D.hdf5\n",
      "Epoch 18/30\n",
      "100/100 [==============================] - 15s 146ms/step - loss: 0.1650 - acc: 0.9366 - val_loss: 0.5256 - val_acc: 0.8245\n",
      "\n",
      "Epoch 00018: acc did not improve from 0.95429\n",
      "Epoch 19/30\n",
      "100/100 [==============================] - 15s 146ms/step - loss: 0.1508 - acc: 0.9397 - val_loss: 0.5999 - val_acc: 0.8217\n",
      "\n",
      "Epoch 00019: acc did not improve from 0.95429\n",
      "Epoch 20/30\n",
      "100/100 [==============================] - 15s 146ms/step - loss: 0.1183 - acc: 0.9527 - val_loss: 0.6039 - val_acc: 0.8316\n",
      "\n",
      "Epoch 00020: acc did not improve from 0.95429\n",
      "Epoch 21/30\n",
      "100/100 [==============================] - 15s 146ms/step - loss: 0.1156 - acc: 0.9545 - val_loss: 0.6966 - val_acc: 0.8123\n",
      "\n",
      "Epoch 00021: acc improved from 0.95429 to 0.95452, saving model to best-model-3D.hdf5\n",
      "Epoch 22/30\n",
      "100/100 [==============================] - 15s 146ms/step - loss: 0.1186 - acc: 0.9509 - val_loss: 0.6517 - val_acc: 0.8069\n",
      "\n",
      "Epoch 00022: acc did not improve from 0.95452\n",
      "Epoch 23/30\n",
      "100/100 [==============================] - 15s 148ms/step - loss: 0.1232 - acc: 0.9521 - val_loss: 0.6090 - val_acc: 0.8319\n",
      "\n",
      "Epoch 00023: acc did not improve from 0.95452\n",
      "Epoch 24/30\n",
      "100/100 [==============================] - 15s 148ms/step - loss: 0.1038 - acc: 0.9577 - val_loss: 0.6624 - val_acc: 0.8279\n",
      "\n",
      "Epoch 00024: acc improved from 0.95452 to 0.95778, saving model to best-model-3D.hdf5\n",
      "Epoch 25/30\n",
      "100/100 [==============================] - 15s 147ms/step - loss: 0.0910 - acc: 0.9635 - val_loss: 0.6071 - val_acc: 0.8441\n",
      "\n",
      "Epoch 00025: acc improved from 0.95778 to 0.96353, saving model to best-model-3D.hdf5\n",
      "Epoch 26/30\n",
      "100/100 [==============================] - 15s 146ms/step - loss: 0.1354 - acc: 0.9463 - val_loss: 0.6604 - val_acc: 0.8307\n",
      "\n",
      "Epoch 00026: acc did not improve from 0.96353\n",
      "Epoch 27/30\n",
      "100/100 [==============================] - 15s 146ms/step - loss: 0.0975 - acc: 0.9603 - val_loss: 0.8347 - val_acc: 0.7917\n",
      "\n",
      "Epoch 00027: acc did not improve from 0.96353\n",
      "Epoch 28/30\n",
      "100/100 [==============================] - 15s 145ms/step - loss: 0.1323 - acc: 0.9475 - val_loss: 0.6520 - val_acc: 0.8412\n",
      "\n",
      "Epoch 00028: acc did not improve from 0.96353\n",
      "Epoch 29/30\n",
      "100/100 [==============================] - 15s 145ms/step - loss: 0.0782 - acc: 0.9704 - val_loss: 0.8812 - val_acc: 0.8185\n",
      "\n",
      "Epoch 00029: acc improved from 0.96353 to 0.97035, saving model to best-model-3D.hdf5\n",
      "Epoch 30/30\n",
      "100/100 [==============================] - 15s 145ms/step - loss: 0.1202 - acc: 0.9523 - val_loss: 0.8406 - val_acc: 0.8106\n",
      "\n",
      "Epoch 00030: acc did not improve from 0.97035\n"
     ]
    }
   ],
   "source": [
    "aug = ImageDataGenerator(fill_mode=\"nearest\")\n",
    "aug2 = ImageDataGenerator(fill_mode=\"nearest\")\n",
    "batch_size = 256\n",
    "#, validation_data=(Xtest, ytest)\n",
    "history = model.fit_generator(aug.flow(Xtrain, ytrain, batch_size=batch_size), steps_per_epoch=len(Xtrain) // batch_size, epochs=30, validation_data=aug2.flow(Xtest, ytest, batch_size=batch_size), validation_steps=len(Xtest) // batch_size, callbacks=callbacks_list)"
   ]
  },
  {
   "cell_type": "code",
   "execution_count": null,
   "metadata": {},
   "outputs": [],
   "source": [
    "history = model.fit(x=Xtrain, y=ytrain, batch_size=256, epochs=5, callbacks=callbacks_list)"
   ]
  },
  {
   "cell_type": "markdown",
   "metadata": {},
   "source": [
    "# Validation"
   ]
  },
  {
   "cell_type": "code",
   "execution_count": 115,
   "metadata": {},
   "outputs": [],
   "source": [
    "# load best weights\n",
    "model.load_weights(\"best-model-3D.hdf5\")\n",
    "model.compile(loss='categorical_crossentropy', optimizer=adam, metrics=['accuracy'])"
   ]
  },
  {
   "cell_type": "code",
   "execution_count": 116,
   "metadata": {},
   "outputs": [
    {
     "data": {
      "text/plain": [
       "(14824, 9)"
      ]
     },
     "execution_count": 116,
     "metadata": {},
     "output_type": "execute_result"
    }
   ],
   "source": [
    "#ytest = np_utils.to_categorical(ytest)\n",
    "ytest.shape"
   ]
  },
  {
   "cell_type": "code",
   "execution_count": 117,
   "metadata": {},
   "outputs": [
    {
     "name": "stdout",
     "output_type": "stream",
     "text": [
      "              precision    recall  f1-score   support\n",
      "\n",
      "           0       0.00      0.00      0.00      2322\n",
      "           1       0.41      1.00      0.58      5944\n",
      "           2       0.00      0.00      0.00       916\n",
      "           3       0.83      0.04      0.07      1002\n",
      "           4       0.00      0.00      0.00       461\n",
      "           5       0.00      0.00      0.00      2037\n",
      "           6       0.00      0.00      0.00       418\n",
      "           7       0.00      0.00      0.00      1316\n",
      "           8       0.95      0.40      0.56       408\n",
      "\n",
      "    accuracy                           0.41     14824\n",
      "   macro avg       0.24      0.16      0.13     14824\n",
      "weighted avg       0.25      0.41      0.25     14824\n",
      "\n"
     ]
    }
   ],
   "source": [
    "Y_pred_test = model.predict(Xtest)\n",
    "y_pred_test = np.argmax(Y_pred_test, axis=1)\n",
    "\n",
    "classification = classification_report(np.argmax(ytest, axis=1), y_pred_test)\n",
    "print(classification)"
   ]
  },
  {
   "cell_type": "code",
   "execution_count": 33,
   "metadata": {},
   "outputs": [
    {
     "name": "stderr",
     "output_type": "stream",
     "text": [
      "C:\\Users\\Marcin\\Anaconda3\\envs\\PythonGPU\\lib\\site-packages\\sklearn\\metrics\\classification.py:1437: UndefinedMetricWarning: Precision and F-score are ill-defined and being set to 0.0 in labels with no predicted samples.\n",
      "  'precision', 'predicted', average, warn_for)\n"
     ]
    },
    {
     "ename": "RuntimeError",
     "evalue": "You must compile a model before training/testing. Use `model.compile(optimizer, loss)`.",
     "output_type": "error",
     "traceback": [
      "\u001b[1;31m---------------------------------------------------------------------------\u001b[0m",
      "\u001b[1;31mRuntimeError\u001b[0m                              Traceback (most recent call last)",
      "\u001b[1;32m<ipython-input-33-265e88cc203f>\u001b[0m in \u001b[0;36m<module>\u001b[1;34m\u001b[0m\n\u001b[0;32m     39\u001b[0m     \u001b[1;32mreturn\u001b[0m \u001b[0mclassification\u001b[0m\u001b[1;33m,\u001b[0m \u001b[0mconfusion\u001b[0m\u001b[1;33m,\u001b[0m \u001b[0mTest_Loss\u001b[0m\u001b[1;33m,\u001b[0m \u001b[0mTest_accuracy\u001b[0m\u001b[1;33m,\u001b[0m \u001b[0moa\u001b[0m\u001b[1;33m*\u001b[0m\u001b[1;36m100\u001b[0m\u001b[1;33m,\u001b[0m \u001b[0meach_acc\u001b[0m\u001b[1;33m*\u001b[0m\u001b[1;36m100\u001b[0m\u001b[1;33m,\u001b[0m \u001b[0maa\u001b[0m\u001b[1;33m*\u001b[0m\u001b[1;36m100\u001b[0m\u001b[1;33m,\u001b[0m \u001b[0mkappa\u001b[0m\u001b[1;33m*\u001b[0m\u001b[1;36m100\u001b[0m\u001b[1;33m\u001b[0m\u001b[1;33m\u001b[0m\u001b[0m\n\u001b[0;32m     40\u001b[0m \u001b[1;33m\u001b[0m\u001b[0m\n\u001b[1;32m---> 41\u001b[1;33m \u001b[0mclassification\u001b[0m\u001b[1;33m,\u001b[0m \u001b[0mconfusion\u001b[0m\u001b[1;33m,\u001b[0m \u001b[0mTest_loss\u001b[0m\u001b[1;33m,\u001b[0m \u001b[0mTest_accuracy\u001b[0m\u001b[1;33m,\u001b[0m \u001b[0moa\u001b[0m\u001b[1;33m,\u001b[0m \u001b[0meach_acc\u001b[0m\u001b[1;33m,\u001b[0m \u001b[0maa\u001b[0m\u001b[1;33m,\u001b[0m \u001b[0mkappa\u001b[0m \u001b[1;33m=\u001b[0m \u001b[0mreports\u001b[0m\u001b[1;33m(\u001b[0m\u001b[0mXtest\u001b[0m\u001b[1;33m,\u001b[0m\u001b[0mytest\u001b[0m\u001b[1;33m,\u001b[0m\u001b[0mdataset\u001b[0m\u001b[1;33m)\u001b[0m\u001b[1;33m\u001b[0m\u001b[1;33m\u001b[0m\u001b[0m\n\u001b[0m\u001b[0;32m     42\u001b[0m \u001b[0mclassification\u001b[0m \u001b[1;33m=\u001b[0m \u001b[0mstr\u001b[0m\u001b[1;33m(\u001b[0m\u001b[0mclassification\u001b[0m\u001b[1;33m)\u001b[0m\u001b[1;33m\u001b[0m\u001b[1;33m\u001b[0m\u001b[0m\n\u001b[0;32m     43\u001b[0m \u001b[0mconfusion\u001b[0m \u001b[1;33m=\u001b[0m \u001b[0mstr\u001b[0m\u001b[1;33m(\u001b[0m\u001b[0mconfusion\u001b[0m\u001b[1;33m)\u001b[0m\u001b[1;33m\u001b[0m\u001b[1;33m\u001b[0m\u001b[0m\n",
      "\u001b[1;32m<ipython-input-33-265e88cc203f>\u001b[0m in \u001b[0;36mreports\u001b[1;34m(X_test, y_test, name)\u001b[0m\n\u001b[0;32m     33\u001b[0m     \u001b[0meach_acc\u001b[0m\u001b[1;33m,\u001b[0m \u001b[0maa\u001b[0m \u001b[1;33m=\u001b[0m \u001b[0mAA_andEachClassAccuracy\u001b[0m\u001b[1;33m(\u001b[0m\u001b[0mconfusion\u001b[0m\u001b[1;33m)\u001b[0m\u001b[1;33m\u001b[0m\u001b[1;33m\u001b[0m\u001b[0m\n\u001b[0;32m     34\u001b[0m     \u001b[0mkappa\u001b[0m \u001b[1;33m=\u001b[0m \u001b[0mcohen_kappa_score\u001b[0m\u001b[1;33m(\u001b[0m\u001b[0mnp\u001b[0m\u001b[1;33m.\u001b[0m\u001b[0margmax\u001b[0m\u001b[1;33m(\u001b[0m\u001b[0my_test\u001b[0m\u001b[1;33m,\u001b[0m \u001b[0maxis\u001b[0m\u001b[1;33m=\u001b[0m\u001b[1;36m1\u001b[0m\u001b[1;33m)\u001b[0m\u001b[1;33m,\u001b[0m \u001b[0my_pred\u001b[0m\u001b[1;33m)\u001b[0m\u001b[1;33m\u001b[0m\u001b[1;33m\u001b[0m\u001b[0m\n\u001b[1;32m---> 35\u001b[1;33m     \u001b[0mscore\u001b[0m \u001b[1;33m=\u001b[0m \u001b[0mmodel\u001b[0m\u001b[1;33m.\u001b[0m\u001b[0mevaluate\u001b[0m\u001b[1;33m(\u001b[0m\u001b[0mX_test\u001b[0m\u001b[1;33m,\u001b[0m \u001b[0my_test\u001b[0m\u001b[1;33m,\u001b[0m \u001b[0mbatch_size\u001b[0m\u001b[1;33m=\u001b[0m\u001b[1;36m32\u001b[0m\u001b[1;33m)\u001b[0m\u001b[1;33m\u001b[0m\u001b[1;33m\u001b[0m\u001b[0m\n\u001b[0m\u001b[0;32m     36\u001b[0m     \u001b[0mTest_Loss\u001b[0m \u001b[1;33m=\u001b[0m  \u001b[0mscore\u001b[0m\u001b[1;33m[\u001b[0m\u001b[1;36m0\u001b[0m\u001b[1;33m]\u001b[0m\u001b[1;33m*\u001b[0m\u001b[1;36m100\u001b[0m\u001b[1;33m\u001b[0m\u001b[1;33m\u001b[0m\u001b[0m\n\u001b[0;32m     37\u001b[0m     \u001b[0mTest_accuracy\u001b[0m \u001b[1;33m=\u001b[0m \u001b[0mscore\u001b[0m\u001b[1;33m[\u001b[0m\u001b[1;36m1\u001b[0m\u001b[1;33m]\u001b[0m\u001b[1;33m*\u001b[0m\u001b[1;36m100\u001b[0m\u001b[1;33m\u001b[0m\u001b[1;33m\u001b[0m\u001b[0m\n",
      "\u001b[1;32m~\\Anaconda3\\envs\\PythonGPU\\lib\\site-packages\\keras\\engine\\training.py\u001b[0m in \u001b[0;36mevaluate\u001b[1;34m(self, x, y, batch_size, verbose, sample_weight, steps)\u001b[0m\n\u001b[0;32m   1100\u001b[0m             \u001b[0mx\u001b[0m\u001b[1;33m,\u001b[0m \u001b[0my\u001b[0m\u001b[1;33m,\u001b[0m\u001b[1;33m\u001b[0m\u001b[1;33m\u001b[0m\u001b[0m\n\u001b[0;32m   1101\u001b[0m             \u001b[0msample_weight\u001b[0m\u001b[1;33m=\u001b[0m\u001b[0msample_weight\u001b[0m\u001b[1;33m,\u001b[0m\u001b[1;33m\u001b[0m\u001b[1;33m\u001b[0m\u001b[0m\n\u001b[1;32m-> 1102\u001b[1;33m             batch_size=batch_size)\n\u001b[0m\u001b[0;32m   1103\u001b[0m         \u001b[1;31m# Prepare inputs, delegate logic to `test_loop`.\u001b[0m\u001b[1;33m\u001b[0m\u001b[1;33m\u001b[0m\u001b[1;33m\u001b[0m\u001b[0m\n\u001b[0;32m   1104\u001b[0m         \u001b[1;32mif\u001b[0m \u001b[0mself\u001b[0m\u001b[1;33m.\u001b[0m\u001b[0m_uses_dynamic_learning_phase\u001b[0m\u001b[1;33m(\u001b[0m\u001b[1;33m)\u001b[0m\u001b[1;33m:\u001b[0m\u001b[1;33m\u001b[0m\u001b[1;33m\u001b[0m\u001b[0m\n",
      "\u001b[1;32m~\\Anaconda3\\envs\\PythonGPU\\lib\\site-packages\\keras\\engine\\training.py\u001b[0m in \u001b[0;36m_standardize_user_data\u001b[1;34m(self, x, y, sample_weight, class_weight, check_array_lengths, batch_size)\u001b[0m\n\u001b[0;32m    679\u001b[0m         \u001b[1;32mif\u001b[0m \u001b[0my\u001b[0m \u001b[1;32mis\u001b[0m \u001b[1;32mnot\u001b[0m \u001b[1;32mNone\u001b[0m\u001b[1;33m:\u001b[0m\u001b[1;33m\u001b[0m\u001b[1;33m\u001b[0m\u001b[0m\n\u001b[0;32m    680\u001b[0m             \u001b[1;32mif\u001b[0m \u001b[1;32mnot\u001b[0m \u001b[0mself\u001b[0m\u001b[1;33m.\u001b[0m\u001b[0moptimizer\u001b[0m\u001b[1;33m:\u001b[0m\u001b[1;33m\u001b[0m\u001b[1;33m\u001b[0m\u001b[0m\n\u001b[1;32m--> 681\u001b[1;33m                 raise RuntimeError('You must compile a model before '\n\u001b[0m\u001b[0;32m    682\u001b[0m                                    \u001b[1;34m'training/testing. '\u001b[0m\u001b[1;33m\u001b[0m\u001b[1;33m\u001b[0m\u001b[0m\n\u001b[0;32m    683\u001b[0m                                    'Use `model.compile(optimizer, loss)`.')\n",
      "\u001b[1;31mRuntimeError\u001b[0m: You must compile a model before training/testing. Use `model.compile(optimizer, loss)`."
     ]
    }
   ],
   "source": [
    "def AA_andEachClassAccuracy(confusion_matrix):\n",
    "    counter = confusion_matrix.shape[0]\n",
    "    list_diag = np.diag(confusion_matrix)\n",
    "    list_raw_sum = np.sum(confusion_matrix, axis=1)\n",
    "    each_acc = np.nan_to_num(truediv(list_diag, list_raw_sum))\n",
    "    average_acc = np.mean(each_acc)\n",
    "    return each_acc, average_acc\n",
    "\n",
    "def reports (X_test,y_test,name):\n",
    "    #start = time.time()\n",
    "    Y_pred = model.predict(X_test)\n",
    "    y_pred = np.argmax(Y_pred, axis=1)\n",
    "    #end = time.time()\n",
    "    #print(end - start)\n",
    "    if name == 'IP':\n",
    "        target_names = ['Alfalfa', 'Corn-notill', 'Corn-mintill', 'Corn'\n",
    "                        ,'Grass-pasture', 'Grass-trees', 'Grass-pasture-mowed', \n",
    "                        'Hay-windrowed', 'Oats', 'Soybean-notill', 'Soybean-mintill',\n",
    "                        'Soybean-clean', 'Wheat', 'Woods', 'Buildings-Grass-Trees-Drives',\n",
    "                        'Stone-Steel-Towers']\n",
    "    elif name == 'SA':\n",
    "        target_names = ['Brocoli_green_weeds_1','Brocoli_green_weeds_2','Fallow','Fallow_rough_plow','Fallow_smooth',\n",
    "                        'Stubble','Celery','Grapes_untrained','Soil_vinyard_develop','Corn_senesced_green_weeds',\n",
    "                        'Lettuce_romaine_4wk','Lettuce_romaine_5wk','Lettuce_romaine_6wk','Lettuce_romaine_7wk',\n",
    "                        'Vinyard_untrained','Vinyard_vertical_trellis']\n",
    "    elif name == 'PU':\n",
    "        target_names = ['Asphalt','Meadows','Gravel','Trees', 'Painted metal sheets','Bare Soil','Bitumen',\n",
    "                        'Self-Blocking Bricks','Shadows']\n",
    "    \n",
    "    classification = classification_report(np.argmax(y_test, axis=1), y_pred, target_names=target_names)\n",
    "    oa = accuracy_score(np.argmax(y_test, axis=1), y_pred)\n",
    "    confusion = confusion_matrix(np.argmax(y_test, axis=1), y_pred)\n",
    "    each_acc, aa = AA_andEachClassAccuracy(confusion)\n",
    "    kappa = cohen_kappa_score(np.argmax(y_test, axis=1), y_pred)\n",
    "    score = model.evaluate(X_test, y_test, batch_size=32)\n",
    "    Test_Loss =  score[0]*100\n",
    "    Test_accuracy = score[1]*100\n",
    "    \n",
    "    return classification, confusion, Test_Loss, Test_accuracy, oa*100, each_acc*100, aa*100, kappa*100\n",
    "\n",
    "classification, confusion, Test_loss, Test_accuracy, oa, each_acc, aa, kappa = reports(Xtest,ytest,dataset)\n",
    "classification = str(classification)\n",
    "confusion = str(confusion)\n",
    "file_name = \"classification_report.txt\"\n",
    "\n",
    "with open(file_name, 'w') as x_file:\n",
    "    x_file.write('{} Test loss (%)'.format(Test_loss))\n",
    "    x_file.write('\\n')\n",
    "    x_file.write('{} Test accuracy (%)'.format(Test_accuracy))\n",
    "    x_file.write('\\n')\n",
    "    x_file.write('\\n')\n",
    "    x_file.write('{} Kappa accuracy (%)'.format(kappa))\n",
    "    x_file.write('\\n')\n",
    "    x_file.write('{} Overall accuracy (%)'.format(oa))\n",
    "    x_file.write('\\n')\n",
    "    x_file.write('{} Average accuracy (%)'.format(aa))\n",
    "    x_file.write('\\n')\n",
    "    x_file.write('\\n')\n",
    "    x_file.write('{}'.format(classification))\n",
    "    x_file.write('\\n')\n",
    "    x_file.write('{}'.format(confusion))"
   ]
  },
  {
   "cell_type": "code",
   "execution_count": 34,
   "metadata": {},
   "outputs": [],
   "source": [
    "def Patch(data,height_index,width_index):\n",
    "    height_slice = slice(height_index, height_index+PATCH_SIZE)\n",
    "    width_slice = slice(width_index, width_index+PATCH_SIZE)\n",
    "    patch = data[height_slice, width_slice, :]\n",
    "    \n",
    "    return patch"
   ]
  },
  {
   "cell_type": "code",
   "execution_count": 35,
   "metadata": {},
   "outputs": [],
   "source": [
    "# load the original image\n",
    "X, y = loadData(dataset)"
   ]
  },
  {
   "cell_type": "code",
   "execution_count": 36,
   "metadata": {},
   "outputs": [],
   "source": [
    "height = y.shape[0]\n",
    "width = y.shape[1]\n",
    "PATCH_SIZE = windowSize"
   ]
  },
  {
   "cell_type": "code",
   "execution_count": 37,
   "metadata": {},
   "outputs": [
    {
     "ename": "MemoryError",
     "evalue": "",
     "output_type": "error",
     "traceback": [
      "\u001b[1;31m---------------------------------------------------------------------------\u001b[0m",
      "\u001b[1;31mMemoryError\u001b[0m                               Traceback (most recent call last)",
      "\u001b[1;32m<ipython-input-37-add2a24ffa27>\u001b[0m in \u001b[0;36m<module>\u001b[1;34m\u001b[0m\n\u001b[1;32m----> 1\u001b[1;33m \u001b[0mX\u001b[0m\u001b[1;33m,\u001b[0m\u001b[0mpca\u001b[0m \u001b[1;33m=\u001b[0m \u001b[0mapplyPCA\u001b[0m\u001b[1;33m(\u001b[0m\u001b[0mX\u001b[0m\u001b[1;33m,\u001b[0m \u001b[0mnumComponents\u001b[0m\u001b[1;33m=\u001b[0m\u001b[0mnumComponentsPCA\u001b[0m\u001b[1;33m)\u001b[0m\u001b[1;33m\u001b[0m\u001b[1;33m\u001b[0m\u001b[0m\n\u001b[0m",
      "\u001b[1;32m<ipython-input-4-f9aede638051>\u001b[0m in \u001b[0;36mapplyPCA\u001b[1;34m(X, numComponents, useKernelPCA)\u001b[0m\n\u001b[0;32m    162\u001b[0m     \u001b[1;32melse\u001b[0m\u001b[1;33m:\u001b[0m\u001b[1;33m\u001b[0m\u001b[1;33m\u001b[0m\u001b[0m\n\u001b[0;32m    163\u001b[0m         \u001b[0mpca\u001b[0m \u001b[1;33m=\u001b[0m \u001b[0mKernelPCA\u001b[0m\u001b[1;33m(\u001b[0m\u001b[0mn_components\u001b[0m\u001b[1;33m=\u001b[0m\u001b[0mnumComponents\u001b[0m\u001b[1;33m,\u001b[0m \u001b[0mkernel\u001b[0m\u001b[1;33m=\u001b[0m\u001b[1;34m'rbf'\u001b[0m\u001b[1;33m)\u001b[0m\u001b[1;33m\u001b[0m\u001b[1;33m\u001b[0m\u001b[0m\n\u001b[1;32m--> 164\u001b[1;33m     \u001b[0mnewX\u001b[0m \u001b[1;33m=\u001b[0m \u001b[0mpca\u001b[0m\u001b[1;33m.\u001b[0m\u001b[0mfit_transform\u001b[0m\u001b[1;33m(\u001b[0m\u001b[0mnewX\u001b[0m\u001b[1;33m)\u001b[0m\u001b[1;33m\u001b[0m\u001b[1;33m\u001b[0m\u001b[0m\n\u001b[0m\u001b[0;32m    165\u001b[0m     \u001b[0mnewX\u001b[0m \u001b[1;33m=\u001b[0m \u001b[0mnp\u001b[0m\u001b[1;33m.\u001b[0m\u001b[0mreshape\u001b[0m\u001b[1;33m(\u001b[0m\u001b[0mnewX\u001b[0m\u001b[1;33m,\u001b[0m \u001b[1;33m(\u001b[0m\u001b[0mX\u001b[0m\u001b[1;33m.\u001b[0m\u001b[0mshape\u001b[0m\u001b[1;33m[\u001b[0m\u001b[1;36m0\u001b[0m\u001b[1;33m]\u001b[0m\u001b[1;33m,\u001b[0m\u001b[0mX\u001b[0m\u001b[1;33m.\u001b[0m\u001b[0mshape\u001b[0m\u001b[1;33m[\u001b[0m\u001b[1;36m1\u001b[0m\u001b[1;33m]\u001b[0m\u001b[1;33m,\u001b[0m \u001b[0mnumComponents\u001b[0m\u001b[1;33m)\u001b[0m\u001b[1;33m)\u001b[0m\u001b[1;33m\u001b[0m\u001b[1;33m\u001b[0m\u001b[0m\n\u001b[0;32m    166\u001b[0m     \u001b[1;32mreturn\u001b[0m \u001b[0mnewX\u001b[0m\u001b[1;33m,\u001b[0m \u001b[0mpca\u001b[0m\u001b[1;33m\u001b[0m\u001b[1;33m\u001b[0m\u001b[0m\n",
      "\u001b[1;32m~\\Anaconda3\\envs\\PythonGPU\\lib\\site-packages\\sklearn\\decomposition\\kernel_pca.py\u001b[0m in \u001b[0;36mfit_transform\u001b[1;34m(self, X, y, **params)\u001b[0m\n\u001b[0;32m    299\u001b[0m         \u001b[0mX_new\u001b[0m \u001b[1;33m:\u001b[0m \u001b[0marray\u001b[0m\u001b[1;33m-\u001b[0m\u001b[0mlike\u001b[0m\u001b[1;33m,\u001b[0m \u001b[0mshape\u001b[0m \u001b[1;33m(\u001b[0m\u001b[0mn_samples\u001b[0m\u001b[1;33m,\u001b[0m \u001b[0mn_components\u001b[0m\u001b[1;33m)\u001b[0m\u001b[1;33m\u001b[0m\u001b[1;33m\u001b[0m\u001b[0m\n\u001b[0;32m    300\u001b[0m         \"\"\"\n\u001b[1;32m--> 301\u001b[1;33m         \u001b[0mself\u001b[0m\u001b[1;33m.\u001b[0m\u001b[0mfit\u001b[0m\u001b[1;33m(\u001b[0m\u001b[0mX\u001b[0m\u001b[1;33m,\u001b[0m \u001b[1;33m**\u001b[0m\u001b[0mparams\u001b[0m\u001b[1;33m)\u001b[0m\u001b[1;33m\u001b[0m\u001b[1;33m\u001b[0m\u001b[0m\n\u001b[0m\u001b[0;32m    302\u001b[0m \u001b[1;33m\u001b[0m\u001b[0m\n\u001b[0;32m    303\u001b[0m         \u001b[1;31m# no need to use the kernel to transform X, use shortcut expression\u001b[0m\u001b[1;33m\u001b[0m\u001b[1;33m\u001b[0m\u001b[1;33m\u001b[0m\u001b[0m\n",
      "\u001b[1;32m~\\Anaconda3\\envs\\PythonGPU\\lib\\site-packages\\sklearn\\decomposition\\kernel_pca.py\u001b[0m in \u001b[0;36mfit\u001b[1;34m(self, X, y)\u001b[0m\n\u001b[0;32m    274\u001b[0m         \u001b[0mX\u001b[0m \u001b[1;33m=\u001b[0m \u001b[0mcheck_array\u001b[0m\u001b[1;33m(\u001b[0m\u001b[0mX\u001b[0m\u001b[1;33m,\u001b[0m \u001b[0maccept_sparse\u001b[0m\u001b[1;33m=\u001b[0m\u001b[1;34m'csr'\u001b[0m\u001b[1;33m,\u001b[0m \u001b[0mcopy\u001b[0m\u001b[1;33m=\u001b[0m\u001b[0mself\u001b[0m\u001b[1;33m.\u001b[0m\u001b[0mcopy_X\u001b[0m\u001b[1;33m)\u001b[0m\u001b[1;33m\u001b[0m\u001b[1;33m\u001b[0m\u001b[0m\n\u001b[0;32m    275\u001b[0m         \u001b[0mself\u001b[0m\u001b[1;33m.\u001b[0m\u001b[0m_centerer\u001b[0m \u001b[1;33m=\u001b[0m \u001b[0mKernelCenterer\u001b[0m\u001b[1;33m(\u001b[0m\u001b[1;33m)\u001b[0m\u001b[1;33m\u001b[0m\u001b[1;33m\u001b[0m\u001b[0m\n\u001b[1;32m--> 276\u001b[1;33m         \u001b[0mK\u001b[0m \u001b[1;33m=\u001b[0m \u001b[0mself\u001b[0m\u001b[1;33m.\u001b[0m\u001b[0m_get_kernel\u001b[0m\u001b[1;33m(\u001b[0m\u001b[0mX\u001b[0m\u001b[1;33m)\u001b[0m\u001b[1;33m\u001b[0m\u001b[1;33m\u001b[0m\u001b[0m\n\u001b[0m\u001b[0;32m    277\u001b[0m         \u001b[0mself\u001b[0m\u001b[1;33m.\u001b[0m\u001b[0m_fit_transform\u001b[0m\u001b[1;33m(\u001b[0m\u001b[0mK\u001b[0m\u001b[1;33m)\u001b[0m\u001b[1;33m\u001b[0m\u001b[1;33m\u001b[0m\u001b[0m\n\u001b[0;32m    278\u001b[0m \u001b[1;33m\u001b[0m\u001b[0m\n",
      "\u001b[1;32m~\\Anaconda3\\envs\\PythonGPU\\lib\\site-packages\\sklearn\\decomposition\\kernel_pca.py\u001b[0m in \u001b[0;36m_get_kernel\u001b[1;34m(self, X, Y)\u001b[0m\n\u001b[0;32m    178\u001b[0m         return pairwise_kernels(X, Y, metric=self.kernel,\n\u001b[0;32m    179\u001b[0m                                 \u001b[0mfilter_params\u001b[0m\u001b[1;33m=\u001b[0m\u001b[1;32mTrue\u001b[0m\u001b[1;33m,\u001b[0m \u001b[0mn_jobs\u001b[0m\u001b[1;33m=\u001b[0m\u001b[0mself\u001b[0m\u001b[1;33m.\u001b[0m\u001b[0mn_jobs\u001b[0m\u001b[1;33m,\u001b[0m\u001b[1;33m\u001b[0m\u001b[1;33m\u001b[0m\u001b[0m\n\u001b[1;32m--> 180\u001b[1;33m                                 **params)\n\u001b[0m\u001b[0;32m    181\u001b[0m \u001b[1;33m\u001b[0m\u001b[0m\n\u001b[0;32m    182\u001b[0m     \u001b[1;32mdef\u001b[0m \u001b[0m_fit_transform\u001b[0m\u001b[1;33m(\u001b[0m\u001b[0mself\u001b[0m\u001b[1;33m,\u001b[0m \u001b[0mK\u001b[0m\u001b[1;33m)\u001b[0m\u001b[1;33m:\u001b[0m\u001b[1;33m\u001b[0m\u001b[1;33m\u001b[0m\u001b[0m\n",
      "\u001b[1;32m~\\Anaconda3\\envs\\PythonGPU\\lib\\site-packages\\sklearn\\metrics\\pairwise.py\u001b[0m in \u001b[0;36mpairwise_kernels\u001b[1;34m(X, Y, metric, filter_params, n_jobs, **kwds)\u001b[0m\n\u001b[0;32m   1743\u001b[0m         \u001b[1;32mraise\u001b[0m \u001b[0mValueError\u001b[0m\u001b[1;33m(\u001b[0m\u001b[1;34m\"Unknown kernel %r\"\u001b[0m \u001b[1;33m%\u001b[0m \u001b[0mmetric\u001b[0m\u001b[1;33m)\u001b[0m\u001b[1;33m\u001b[0m\u001b[1;33m\u001b[0m\u001b[0m\n\u001b[0;32m   1744\u001b[0m \u001b[1;33m\u001b[0m\u001b[0m\n\u001b[1;32m-> 1745\u001b[1;33m     \u001b[1;32mreturn\u001b[0m \u001b[0m_parallel_pairwise\u001b[0m\u001b[1;33m(\u001b[0m\u001b[0mX\u001b[0m\u001b[1;33m,\u001b[0m \u001b[0mY\u001b[0m\u001b[1;33m,\u001b[0m \u001b[0mfunc\u001b[0m\u001b[1;33m,\u001b[0m \u001b[0mn_jobs\u001b[0m\u001b[1;33m,\u001b[0m \u001b[1;33m**\u001b[0m\u001b[0mkwds\u001b[0m\u001b[1;33m)\u001b[0m\u001b[1;33m\u001b[0m\u001b[1;33m\u001b[0m\u001b[0m\n\u001b[0m",
      "\u001b[1;32m~\\Anaconda3\\envs\\PythonGPU\\lib\\site-packages\\sklearn\\metrics\\pairwise.py\u001b[0m in \u001b[0;36m_parallel_pairwise\u001b[1;34m(X, Y, func, n_jobs, **kwds)\u001b[0m\n\u001b[0;32m   1204\u001b[0m \u001b[1;33m\u001b[0m\u001b[0m\n\u001b[0;32m   1205\u001b[0m     \u001b[1;32mif\u001b[0m \u001b[0meffective_n_jobs\u001b[0m\u001b[1;33m(\u001b[0m\u001b[0mn_jobs\u001b[0m\u001b[1;33m)\u001b[0m \u001b[1;33m==\u001b[0m \u001b[1;36m1\u001b[0m\u001b[1;33m:\u001b[0m\u001b[1;33m\u001b[0m\u001b[1;33m\u001b[0m\u001b[0m\n\u001b[1;32m-> 1206\u001b[1;33m         \u001b[1;32mreturn\u001b[0m \u001b[0mfunc\u001b[0m\u001b[1;33m(\u001b[0m\u001b[0mX\u001b[0m\u001b[1;33m,\u001b[0m \u001b[0mY\u001b[0m\u001b[1;33m,\u001b[0m \u001b[1;33m**\u001b[0m\u001b[0mkwds\u001b[0m\u001b[1;33m)\u001b[0m\u001b[1;33m\u001b[0m\u001b[1;33m\u001b[0m\u001b[0m\n\u001b[0m\u001b[0;32m   1207\u001b[0m \u001b[1;33m\u001b[0m\u001b[0m\n\u001b[0;32m   1208\u001b[0m     \u001b[1;31m# enforce a threading backend to prevent data communication overhead\u001b[0m\u001b[1;33m\u001b[0m\u001b[1;33m\u001b[0m\u001b[1;33m\u001b[0m\u001b[0m\n",
      "\u001b[1;32m~\\Anaconda3\\envs\\PythonGPU\\lib\\site-packages\\sklearn\\metrics\\pairwise.py\u001b[0m in \u001b[0;36mrbf_kernel\u001b[1;34m(X, Y, gamma)\u001b[0m\n\u001b[0;32m    950\u001b[0m         \u001b[0mgamma\u001b[0m \u001b[1;33m=\u001b[0m \u001b[1;36m1.0\u001b[0m \u001b[1;33m/\u001b[0m \u001b[0mX\u001b[0m\u001b[1;33m.\u001b[0m\u001b[0mshape\u001b[0m\u001b[1;33m[\u001b[0m\u001b[1;36m1\u001b[0m\u001b[1;33m]\u001b[0m\u001b[1;33m\u001b[0m\u001b[1;33m\u001b[0m\u001b[0m\n\u001b[0;32m    951\u001b[0m \u001b[1;33m\u001b[0m\u001b[0m\n\u001b[1;32m--> 952\u001b[1;33m     \u001b[0mK\u001b[0m \u001b[1;33m=\u001b[0m \u001b[0meuclidean_distances\u001b[0m\u001b[1;33m(\u001b[0m\u001b[0mX\u001b[0m\u001b[1;33m,\u001b[0m \u001b[0mY\u001b[0m\u001b[1;33m,\u001b[0m \u001b[0msquared\u001b[0m\u001b[1;33m=\u001b[0m\u001b[1;32mTrue\u001b[0m\u001b[1;33m)\u001b[0m\u001b[1;33m\u001b[0m\u001b[1;33m\u001b[0m\u001b[0m\n\u001b[0m\u001b[0;32m    953\u001b[0m     \u001b[0mK\u001b[0m \u001b[1;33m*=\u001b[0m \u001b[1;33m-\u001b[0m\u001b[0mgamma\u001b[0m\u001b[1;33m\u001b[0m\u001b[1;33m\u001b[0m\u001b[0m\n\u001b[0;32m    954\u001b[0m     \u001b[0mnp\u001b[0m\u001b[1;33m.\u001b[0m\u001b[0mexp\u001b[0m\u001b[1;33m(\u001b[0m\u001b[0mK\u001b[0m\u001b[1;33m,\u001b[0m \u001b[0mK\u001b[0m\u001b[1;33m)\u001b[0m  \u001b[1;31m# exponentiate K in-place\u001b[0m\u001b[1;33m\u001b[0m\u001b[1;33m\u001b[0m\u001b[0m\n",
      "\u001b[1;32m~\\Anaconda3\\envs\\PythonGPU\\lib\\site-packages\\sklearn\\metrics\\pairwise.py\u001b[0m in \u001b[0;36meuclidean_distances\u001b[1;34m(X, Y, Y_norm_squared, squared, X_norm_squared)\u001b[0m\n\u001b[0;32m    271\u001b[0m     \u001b[1;32melse\u001b[0m\u001b[1;33m:\u001b[0m\u001b[1;33m\u001b[0m\u001b[1;33m\u001b[0m\u001b[0m\n\u001b[0;32m    272\u001b[0m         \u001b[1;31m# if dtype is already float64, no need to chunk and upcast\u001b[0m\u001b[1;33m\u001b[0m\u001b[1;33m\u001b[0m\u001b[1;33m\u001b[0m\u001b[0m\n\u001b[1;32m--> 273\u001b[1;33m         \u001b[0mdistances\u001b[0m \u001b[1;33m=\u001b[0m \u001b[1;33m-\u001b[0m \u001b[1;36m2\u001b[0m \u001b[1;33m*\u001b[0m \u001b[0msafe_sparse_dot\u001b[0m\u001b[1;33m(\u001b[0m\u001b[0mX\u001b[0m\u001b[1;33m,\u001b[0m \u001b[0mY\u001b[0m\u001b[1;33m.\u001b[0m\u001b[0mT\u001b[0m\u001b[1;33m,\u001b[0m \u001b[0mdense_output\u001b[0m\u001b[1;33m=\u001b[0m\u001b[1;32mTrue\u001b[0m\u001b[1;33m)\u001b[0m\u001b[1;33m\u001b[0m\u001b[1;33m\u001b[0m\u001b[0m\n\u001b[0m\u001b[0;32m    274\u001b[0m         \u001b[0mdistances\u001b[0m \u001b[1;33m+=\u001b[0m \u001b[0mXX\u001b[0m\u001b[1;33m\u001b[0m\u001b[1;33m\u001b[0m\u001b[0m\n\u001b[0;32m    275\u001b[0m         \u001b[0mdistances\u001b[0m \u001b[1;33m+=\u001b[0m \u001b[0mYY\u001b[0m\u001b[1;33m\u001b[0m\u001b[1;33m\u001b[0m\u001b[0m\n",
      "\u001b[1;32m~\\Anaconda3\\envs\\PythonGPU\\lib\\site-packages\\sklearn\\utils\\extmath.py\u001b[0m in \u001b[0;36msafe_sparse_dot\u001b[1;34m(a, b, dense_output)\u001b[0m\n\u001b[0;32m    140\u001b[0m         \u001b[1;32mreturn\u001b[0m \u001b[0mret\u001b[0m\u001b[1;33m\u001b[0m\u001b[1;33m\u001b[0m\u001b[0m\n\u001b[0;32m    141\u001b[0m     \u001b[1;32melse\u001b[0m\u001b[1;33m:\u001b[0m\u001b[1;33m\u001b[0m\u001b[1;33m\u001b[0m\u001b[0m\n\u001b[1;32m--> 142\u001b[1;33m         \u001b[1;32mreturn\u001b[0m \u001b[0mnp\u001b[0m\u001b[1;33m.\u001b[0m\u001b[0mdot\u001b[0m\u001b[1;33m(\u001b[0m\u001b[0ma\u001b[0m\u001b[1;33m,\u001b[0m \u001b[0mb\u001b[0m\u001b[1;33m)\u001b[0m\u001b[1;33m\u001b[0m\u001b[1;33m\u001b[0m\u001b[0m\n\u001b[0m\u001b[0;32m    143\u001b[0m \u001b[1;33m\u001b[0m\u001b[0m\n\u001b[0;32m    144\u001b[0m \u001b[1;33m\u001b[0m\u001b[0m\n",
      "\u001b[1;31mMemoryError\u001b[0m: "
     ]
    }
   ],
   "source": [
    "X,pca = applyPCA(X, numComponents=numComponentsPCA)"
   ]
  },
  {
   "cell_type": "code",
   "execution_count": 55,
   "metadata": {},
   "outputs": [],
   "source": [
    "X = padWithZeros(X, PATCH_SIZE//2)"
   ]
  },
  {
   "cell_type": "code",
   "execution_count": 56,
   "metadata": {},
   "outputs": [],
   "source": [
    "# calculate the predicted image\n",
    "outputs = np.zeros((height,width))\n",
    "for i in range(height):\n",
    "    for j in range(width):\n",
    "        target = int(y[i,j])\n",
    "        if target == 0 :\n",
    "            continue\n",
    "        else :\n",
    "            image_patch=Patch(X,i,j)\n",
    "            X_test_image = image_patch.reshape(1,image_patch.shape[0],image_patch.shape[1], image_patch.shape[2]).astype('float32')                                   \n",
    "            prediction = (model.predict(X_test_image))\n",
    "            prediction = np.argmax(prediction, axis=1)\n",
    "            outputs[i][j] = prediction+1"
   ]
  },
  {
   "cell_type": "code",
   "execution_count": 57,
   "metadata": {},
   "outputs": [
    {
     "data": {
      "image/png": "[encoded data removed]",
      "text/plain": [
       "<Figure size 504x504 with 1 Axes>"
      ]
     },
     "metadata": {
      "needs_background": "light"
     },
     "output_type": "display_data"
    },
    {
     "data": {
      "image/png": "[encoded data removed]",
      "text/plain": [
       "<Figure size 504x504 with 1 Axes>"
      ]
     },
     "metadata": {
      "needs_background": "light"
     },
     "output_type": "display_data"
    }
   ],
   "source": [
    "ground_truth = spectral.imshow(classes = y,figsize =(7,7))\n",
    "predict_image = spectral.imshow(classes = outputs.astype(int),figsize =(7,7))"
   ]
  },
  {
   "cell_type": "code",
   "execution_count": 36,
   "metadata": {},
   "outputs": [],
   "source": [
    "spectral.save_rgb(\"predictions.jpg\", outputs.astype(int), colors=spectral.spy_colors)"
   ]
  }
 ],
 "metadata": {
  "kernelspec": {
   "display_name": "Python 3",
   "language": "python",
   "name": "python3"
  },
  "language_info": {
   "codemirror_mode": {
    "name": "ipython",
    "version": 3
   },
   "file_extension": ".py",
   "mimetype": "text/x-python",
   "name": "python",
   "nbconvert_exporter": "python",
   "pygments_lexer": "ipython3",
   "version": "3.7.3"
  }
 },
 "nbformat": 4,
 "nbformat_minor": 2
}
